{
 "cells": [
  {
   "cell_type": "markdown",
   "metadata": {},
   "source": [
    "Title: Grouping & Aggregating Data using Pandas<br>\n",
    "Objective: Learn how to group data and perform aggregations on these groups."
   ]
  },
  {
   "cell_type": "markdown",
   "metadata": {},
   "source": [
    "Task 1: Grouping by a Single Column<br>\n",
    "\n",
    "Task: Group the dataset by 'region' and calculate total sales per region.<br>\n",
    "Steps:<br>\n",
    "10. Load the dataset.<br>\n",
    "11. Use groupby('region') on the DataFrame.<br>\n",
    "12. Apply .sum() to the 'sales' column."
   ]
  },
  {
   "cell_type": "code",
   "execution_count": null,
   "metadata": {},
   "outputs": [],
   "source": []
  },
  {
   "cell_type": "markdown",
   "metadata": {},
   "source": [
    "Task 2: Grouping by Multiple Columns<br>\n",
    "\n",
    "Task: Group the dataset by 'region' and 'category', then find the average sales.<br>\n",
    "Steps:<br>\n",
    "13. Group by ['region', 'category'].<br>\n",
    "14. Use .mean() on the 'sales' column.<br>\n",
    "15. Examine the resulting DataFrame structure."
   ]
  },
  {
   "cell_type": "code",
   "execution_count": null,
   "metadata": {},
   "outputs": [],
   "source": [
    "\n",
    "\n",
    "\n"
   ]
  },
  {
   "cell_type": "markdown",
   "metadata": {},
   "source": [
    "Task 3: Aggregating Multiple Functions<br>\n",
    "\n",
    "Task: Group data by 'category' and apply multiple aggregation functions (sum and count) on 'quantity'.<br>\n",
    "Steps:<br>\n",
    "16. Group by 'category'.<br>\n",
    "17. Use .agg(['sum', 'count']) on 'quantity'.<br>\n",
    "18. Analyze the result to understand how multiple aggregations work."
   ]
  },
  {
   "cell_type": "code",
   "execution_count": null,
   "metadata": {},
   "outputs": [],
   "source": [
    "\n"
   ]
  }
 ],
 "metadata": {
  "kernelspec": {
   "display_name": "Python 3",
   "language": "python",
   "name": "python3"
  },
  "language_info": {
   "codemirror_mode": {
    "name": "ipython",
    "version": 3
   },
   "file_extension": ".py",
   "mimetype": "text/x-python",
   "name": "python",
   "nbconvert_exporter": "python",
   "pygments_lexer": "ipython3",
   "version": "3.10.12"
  }
 },
 "nbformat": 4,
 "nbformat_minor": 2
}
