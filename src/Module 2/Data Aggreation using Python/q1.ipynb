{
 "cells": [
  {
   "cell_type": "markdown",
   "metadata": {},
   "source": [
    "Title: Introduction to Data Aggregation\n",
    "<br>\n",
    "Objective: Understand the basic concepts of data aggregation and practice simple aggregation methods."
   ]
  },
  {
   "cell_type": "markdown",
   "metadata": {},
   "source": [
    "Task 1: Calculating Sum\n",
    "<br>\n",
    "Task: Use a numerical dataset containing columns like 'sales', 'profit', and 'quantity'.\n",
    "Calculate the total sales for the dataset.\n",
    "<br>\n",
    "Steps:<br>\n",
    "1. Load the dataset using pandas.<br>\n",
    "2. Apply the .sum() function on the 'sales' column.<br>\n",
    "3. Verify the result by manually summing a portion of the 'sales' values."
   ]
  },
  {
   "cell_type": "code",
   "execution_count": 7,
   "metadata": {},
   "outputs": [
    {
     "name": "stdout",
     "output_type": "stream",
     "text": [
      "Error loading dataset: [Errno 2] No such file or directory: 'your_dataset.csv'\n"
     ]
    }
   ],
   "source": [
    "import pandas as pd\n",
    "\n",
    "# Load the dataset\n",
    "def load_dataset(file_path):\n",
    "    try:\n",
    "        data = pd.read_csv(file_path)\n",
    "        return data\n",
    "    except Exception as e:\n",
    "        print(\"Error loading dataset:\", str(e))\n",
    "\n",
    "# Calculate total sales\n",
    "def calculate_total_sales(data):\n",
    "    try:\n",
    "        total_sales = data['sales'].sum()\n",
    "        return total_sales\n",
    "    except Exception as e:\n",
    "        print(\"Error calculating total sales:\", str(e))\n",
    "\n",
    "# Verify the result\n",
    "def verify_result(data):\n",
    "    try:\n",
    "        # Manually sum a portion of the 'sales' values\n",
    "        manual_sum = sum(data['sales'].head(10).tolist())\n",
    "        pandas_sum = data['sales'].head(10).sum()\n",
    "        print(\"Manual Sum of first 10 rows:\", manual_sum)\n",
    "        print(\"Pandas Sum of first 10 rows:\", pandas_sum)\n",
    "        if manual_sum == pandas_sum:\n",
    "            print(\"Verification successful.\")\n",
    "        else:\n",
    "            print(\"Verification failed.\")\n",
    "    except Exception as e:\n",
    "        print(\"Error verifying result:\", str(e))\n",
    "\n",
    "# Main function\n",
    "def main():\n",
    "    file_path = 'your_dataset.csv'  # Replace with your dataset file path\n",
    "    data = load_dataset(file_path)\n",
    "    if data is not None:\n",
    "        total_sales = calculate_total_sales(data)\n",
    "        print(\"Total Sales:\", total_sales)\n",
    "        verify_result(data)\n",
    "\n",
    "if __name__ == \"__main__\":\n",
    "    main()\n",
    "\n",
    "\n"
   ]
  },
  {
   "cell_type": "markdown",
   "metadata": {},
   "source": [
    "Task 2: Calculating Mean<br>\n",
    "\n",
    "Task: Calculate the average quantity sold.<br>\n",
    "Steps:<br>\n",
    "4. Load the dataset.<br>\n",
    "5. Use the .mean() function on the 'quantity' column to find the average.<br>\n",
    "6. Double-check by calculating the mean manually on a small selection."
   ]
  },
  {
   "cell_type": "code",
   "execution_count": 8,
   "metadata": {},
   "outputs": [
    {
     "name": "stdout",
     "output_type": "stream",
     "text": [
      "Error loading dataset: [Errno 2] No such file or directory: 'your_dataset.csv'\n"
     ]
    }
   ],
   "source": [
    "import pandas as pd\n",
    "\n",
    "# Load the dataset\n",
    "def load_dataset(file_path):\n",
    "    try:\n",
    "        data = pd.read_csv(file_path)\n",
    "        return data\n",
    "    except Exception as e:\n",
    "        print(\"Error loading dataset:\", str(e))\n",
    "\n",
    "# Calculate average quantity sold\n",
    "def calculate_average_quantity(data):\n",
    "    try:\n",
    "        average_quantity = data['quantity'].mean()\n",
    "        return average_quantity\n",
    "    except Exception as e:\n",
    "        print(\"Error calculating average quantity:\", str(e))\n",
    "\n",
    "# Double-check by calculating the mean manually\n",
    "def double_check_average(data):\n",
    "    try:\n",
    "        # Select a small portion of the data\n",
    "        small_data = data['quantity'].head(5)\n",
    "        \n",
    "        # Calculate the mean manually\n",
    "        manual_mean = sum(small_data) / len(small_data)\n",
    "        \n",
    "        # Calculate the mean using pandas\n",
    "        pandas_mean = small_data.mean()\n",
    "        \n",
    "        print(\"Manual Mean:\", manual_mean)\n",
    "        print(\"Pandas Mean:\", pandas_mean)\n",
    "        \n",
    "        if manual_mean == pandas_mean:\n",
    "            print(\"Double-check successful.\")\n",
    "        else:\n",
    "            print(\"Double-check failed.\")\n",
    "    except Exception as e:\n",
    "        print(\"Error double-checking average:\", str(e))\n",
    "\n",
    "# Main function\n",
    "def main():\n",
    "    file_path = 'your_dataset.csv'  # Replace with your dataset file path\n",
    "    data = load_dataset(file_path)\n",
    "    if data is not None:\n",
    "        average_quantity = calculate_average_quantity(data)\n",
    "        print(\"Average Quantity Sold:\", average_quantity)\n",
    "        double_check_average(data)\n",
    "\n",
    "if __name__ == \"__main__\":\n",
    "    main()\n",
    "\n"
   ]
  }
 ],
 "metadata": {
  "kernelspec": {
   "display_name": "Python 3",
   "language": "python",
   "name": "python3"
  },
  "language_info": {
   "codemirror_mode": {
    "name": "ipython",
    "version": 3
   },
   "file_extension": ".py",
   "mimetype": "text/x-python",
   "name": "python",
   "nbconvert_exporter": "python",
   "pygments_lexer": "ipython3",
   "version": "3.10.12"
  }
 },
 "nbformat": 4,
 "nbformat_minor": 2
}
