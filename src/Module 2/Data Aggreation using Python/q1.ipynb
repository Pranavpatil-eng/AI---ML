{
 "cells": [
  {
   "cell_type": "markdown",
   "metadata": {},
   "source": [
    "Title: Introduction to Data Aggregation\n",
    "<br>\n",
    "Objective: Understand the basic concepts of data aggregation and practice simple aggregation methods."
   ]
  },
  {
   "cell_type": "markdown",
   "metadata": {},
   "source": [
    "Task 1: Calculating Sum\n",
    "<br>\n",
    "Task: Use a numerical dataset containing columns like 'sales', 'profit', and 'quantity'.\n",
    "Calculate the total sales for the dataset.\n",
    "<br>\n",
    "Steps:<br>\n",
    "1. Load the dataset using pandas.<br>\n",
    "2. Apply the .sum() function on the 'sales' column.<br>\n",
    "3. Verify the result by manually summing a portion of the 'sales' values."
   ]
  },
  {
   "cell_type": "code",
   "execution_count": 3,
   "metadata": {},
   "outputs": [
    {
     "name": "stdout",
     "output_type": "stream",
     "text": [
      "CSV file 'sales_data.csv' created successfully.\n",
      "\n",
      "Loaded Data:\n",
      "   sales  profit  quantity\n",
      "0  200.5    35.0         2\n",
      "1  450.0    90.0         5\n",
      "2  300.0    60.0         3\n",
      "3  150.5    20.0         1\n",
      "4  500.0   110.0         4\n",
      "5  275.0    50.0         2\n",
      "\n",
      "Total Sales (using .sum()): 1876.0\n",
      "Manual Sum of First 3 'sales' Values: 950.5\n",
      "Sales Values Used for Manual Sum: [200.5 450.  300. ]\n"
     ]
    }
   ],
   "source": [
    "import pandas as pd\n",
    "\n",
    "# Step 1: Create sample dataset and save to CSV\n",
    "data = {\n",
    "    'sales': [200.5, 450.0, 300.0, 150.5, 500.0, 275.0],\n",
    "    'profit': [35.0, 90.0, 60.0, 20.0, 110.0, 50.0],\n",
    "    'quantity': [2, 5, 3, 1, 4, 2]\n",
    "}\n",
    "\n",
    "# Convert dictionary to DataFrame\n",
    "df = pd.DataFrame(data)\n",
    "\n",
    "# Save DataFrame to CSV\n",
    "csv_filename = 'sales_data.csv'\n",
    "df.to_csv(csv_filename, index=False)\n",
    "print(f\"CSV file '{csv_filename}' created successfully.\\n\")\n",
    "\n",
    "# Step 2: Load the dataset from the CSV file\n",
    "df_loaded = pd.read_csv(csv_filename)\n",
    "print(\"Loaded Data:\")\n",
    "print(df_loaded)\n",
    "\n",
    "# Step 3: Calculate total sales using .sum()\n",
    "total_sales = df_loaded['sales'].sum()\n",
    "print(f\"\\nTotal Sales (using .sum()): {total_sales}\")\n",
    "\n",
    "# Step 4: Manual verification using first 3 sales values\n",
    "sample_sales = df_loaded['sales'].head(3)\n",
    "manual_sum = sample_sales.sum()\n",
    "print(f\"Manual Sum of First 3 'sales' Values: {manual_sum}\")\n",
    "print(f\"Sales Values Used for Manual Sum: {sample_sales.values}\")\n",
    "\n"
   ]
  },
  {
   "cell_type": "markdown",
   "metadata": {},
   "source": [
    "Task 2: Calculating Mean<br>\n",
    "\n",
    "Task: Calculate the average quantity sold.<br>\n",
    "Steps:<br>\n",
    "4. Load the dataset.<br>\n",
    "5. Use the .mean() function on the 'quantity' column to find the average.<br>\n",
    "6. Double-check by calculating the mean manually on a small selection."
   ]
  },
  {
   "cell_type": "code",
   "execution_count": 4,
   "metadata": {},
   "outputs": [
    {
     "name": "stdout",
     "output_type": "stream",
     "text": [
      "Dataset Loaded:\n",
      "   sales  profit  quantity\n",
      "0  200.5    35.0         2\n",
      "1  450.0    90.0         5\n",
      "2  300.0    60.0         3\n",
      "3  150.5    20.0         1\n",
      "4  500.0   110.0         4\n",
      "5  275.0    50.0         2\n",
      "\n",
      "Average Quantity Sold (using .mean()): 2.83\n",
      "Manual Mean of First 3 'quantity' Values: 3.33\n",
      "Quantities Used: [2 5 3]\n"
     ]
    }
   ],
   "source": [
    "import pandas as pd\n",
    "\n",
    "# Step 4: Load the dataset\n",
    "df = pd.read_csv('sales_data.csv')\n",
    "print(\"Dataset Loaded:\")\n",
    "print(df)\n",
    "\n",
    "# Step 5: Use .mean() to calculate average quantity sold\n",
    "avg_quantity = df['quantity'].mean()\n",
    "print(f\"\\nAverage Quantity Sold (using .mean()): {avg_quantity:.2f}\")\n",
    "\n",
    "# Step 6: Manual calculation using first 3 quantity values\n",
    "sample_quantities = df['quantity'].head(3)\n",
    "manual_avg = sample_quantities.sum() / len(sample_quantities)\n",
    "print(f\"Manual Mean of First 3 'quantity' Values: {manual_avg:.2f}\")\n",
    "print(f\"Quantities Used: {sample_quantities.values}\")\n",
    "\n",
    "\n",
    "\n",
    "\n"
   ]
  }
 ],
 "metadata": {
  "kernelspec": {
   "display_name": "Python 3",
   "language": "python",
   "name": "python3"
  },
  "language_info": {
   "codemirror_mode": {
    "name": "ipython",
    "version": 3
   },
   "file_extension": ".py",
   "mimetype": "text/x-python",
   "name": "python",
   "nbconvert_exporter": "python",
   "pygments_lexer": "ipython3",
   "version": "3.10.12"
  }
 },
 "nbformat": 4,
 "nbformat_minor": 2
}
