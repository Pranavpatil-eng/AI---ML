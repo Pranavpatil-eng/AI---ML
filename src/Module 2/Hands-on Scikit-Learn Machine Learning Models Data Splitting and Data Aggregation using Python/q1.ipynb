{
 "cells": [
  {
   "cell_type": "code",
   "execution_count": 1,
   "metadata": {},
   "outputs": [
    {
     "name": "stdout",
     "output_type": "stream",
     "text": [
      "X_train:\n",
      "          V1        V2        V3  Amount\n",
      "4 -1.158233  0.877737  1.548718   69.99\n",
      "2 -1.358354 -1.340163  1.773209  378.66\n",
      "5  0.312000 -0.645000  0.021000   90.12\n",
      "1  1.191857  0.266151  0.166480    2.69\n",
      "\n",
      "y_train:\n",
      " 4    0\n",
      "2    0\n",
      "5    1\n",
      "1    0\n",
      "Name: Class, dtype: int64\n"
     ]
    }
   ],
   "source": [
    "# Question 1: Load & Explore the Credit Card Fraud Detection Dataset\n",
    "\n",
    "# Step 1: Load the dataset from a CSV (Assume you have a file named creditcard.csv ).\n",
    "# Step 2: Split the data.\n",
    "# Step 3: Train a Logistic Regression model.\n",
    "# Step 4: Evaluate using ROC AUC score.\n",
    "\n",
    "import pandas as pd\n",
    "from sklearn.model_selection import train_test_split\n",
    "\n",
    "# Sample dataset with 5 'normal' (0) and 2 'fraud' (1) records\n",
    "data = {\n",
    "    'V1': [-1.359807, 1.191857, -1.358354, -0.966272, -1.158233, 0.312, -0.213],\n",
    "    'V2': [-0.072781, 0.266151, -1.340163, -0.185226, 0.877737, -0.645, 1.005],\n",
    "    'V3': [2.536347, 0.166480, 1.773209, 1.792993, 1.548718, 0.021, 0.875],\n",
    "    'Amount': [149.62, 2.69, 378.66, 123.50, 69.99, 90.12, 45.89],\n",
    "    'Class': [0, 0, 0, 0, 0, 1, 1]  # At least 2 of Class=1 (fraud)\n",
    "}\n",
    "\n",
    "# Create DataFrame\n",
    "df = pd.DataFrame(data)\n",
    "\n",
    "# Split features and labels\n",
    "X = df.drop('Class', axis=1)\n",
    "y = df['Class']\n",
    "\n",
    "# Stratified split (works now)\n",
    "X_train, X_test, y_train, y_test = train_test_split(\n",
    "    X, y, test_size=0.3, random_state=42, stratify=y\n",
    ")\n",
    "\n",
    "# Output for verification\n",
    "print(\"X_train:\\n\", X_train)\n",
    "print(\"\\ny_train:\\n\", y_train)\n",
    "\n",
    "\n",
    "\n",
    "\n",
    "\n",
    "\n",
    "\n"
   ]
  }
 ],
 "metadata": {
  "kernelspec": {
   "display_name": "Python 3",
   "language": "python",
   "name": "python3"
  },
  "language_info": {
   "codemirror_mode": {
    "name": "ipython",
    "version": 3
   },
   "file_extension": ".py",
   "mimetype": "text/x-python",
   "name": "python",
   "nbconvert_exporter": "python",
   "pygments_lexer": "ipython3",
   "version": "3.10.12"
  }
 },
 "nbformat": 4,
 "nbformat_minor": 2
}
