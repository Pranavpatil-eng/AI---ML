{
 "cells": [
  {
   "cell_type": "code",
   "execution_count": null,
   "metadata": {},
   "outputs": [],
   "source": [
    "# Question 2: Feature Engineering & Hyperparameter Tuning on the Titanic Dataset\n",
    "\n",
    "# Step 1: Load the Titanic dataset (Assume you have a file named titanic.csv ).\n",
    "# Step 2: Create features and handle missing values.\n",
    "# Step 3: Train a pipeline using a Random Forest with GridSearchCV.\n",
    "# Step 4: Evaluate the tuned model with cross-validation.\n",
    "# Step 1: Load the Titanic dataset\n",
    "\n"
   ]
  }
 ],
 "metadata": {
  "kernelspec": {
   "display_name": "Python 3",
   "language": "python",
   "name": "python3"
  },
  "language_info": {
   "codemirror_mode": {
    "name": "ipython",
    "version": 3
   },
   "file_extension": ".py",
   "mimetype": "text/x-python",
   "name": "python",
   "nbconvert_exporter": "python",
   "pygments_lexer": "ipython3",
   "version": "3.10.12"
  }
 },
 "nbformat": 4,
 "nbformat_minor": 2
}
