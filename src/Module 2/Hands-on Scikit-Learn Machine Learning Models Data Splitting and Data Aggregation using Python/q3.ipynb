{
 "cells": [
  {
   "cell_type": "code",
   "execution_count": 1,
   "metadata": {},
   "outputs": [
    {
     "name": "stdout",
     "output_type": "stream",
     "text": [
      "Best parameters: {'feature_selection__k': 3, 'model__alpha': 10.0}\n",
      "Mean Squared Error (on training): 364863137.38\n",
      "R² Score (on training): 0.89\n"
     ]
    }
   ],
   "source": [
    "# Question 3: Advanced Model Evaluation with Feature Selection for House Prices\n",
    "\n",
    "# Step 1: Load a house prices dataset from CSV (Assume you have a house_prices.csv ).\n",
    "# Step 2: Apply feature selection and create a train-test split.\n",
    "# Step 3: Train a Lasso Regression model.\n",
    "# Step 4: Perform model evaluation and hyperparameter tuning using GridSearchCV.\n",
    "\n",
    "import pandas as pd\n",
    "from sklearn.model_selection import train_test_split, GridSearchCV\n",
    "from sklearn.linear_model import Lasso\n",
    "from sklearn.metrics import mean_squared_error, r2_score\n",
    "from sklearn.preprocessing import StandardScaler\n",
    "from sklearn.pipeline import Pipeline\n",
    "from sklearn.feature_selection import SelectKBest, f_regression\n",
    "\n",
    "# Simulated house prices dataset\n",
    "data = {\n",
    "    'LotArea': [8450, 9600, 11250, 9550, 14260, 14115, 10084, 10382, 6120, 7420],\n",
    "    'OverallQual': [7, 6, 7, 7, 8, 5, 8, 7, 7, 5],\n",
    "    'OverallCond': [5, 8, 5, 5, 5, 5, 5, 6, 5, 7],\n",
    "    'YearBuilt': [2003, 1976, 2001, 1915, 2000, 1993, 2004, 1973, 1931, 1939],\n",
    "    'GrLivArea': [1710, 1262, 1786, 1717, 2198, 1362, 1694, 2090, 1774, 1077],\n",
    "    'GarageCars': [2, 2, 2, 3, 3, 2, 3, 2, 2, 1],\n",
    "    'SalePrice': [208500, 181500, 223500, 140000, 250000, 143000, 307000, 200000, 129900, 118000]\n",
    "}\n",
    "\n",
    "df = pd.DataFrame(data)\n",
    "\n",
    "# Step 2: Split features and target\n",
    "X = df.drop('SalePrice', axis=1)\n",
    "y = df['SalePrice']\n",
    "\n",
    "# Step 3 & 4: Create pipeline with feature selection and Lasso regression\n",
    "pipeline = Pipeline([\n",
    "    ('scaler', StandardScaler()),\n",
    "    ('feature_selection', SelectKBest(score_func=f_regression)),\n",
    "    ('model', Lasso(max_iter=10000))\n",
    "])\n",
    "\n",
    "# GridSearchCV for hyperparameter tuning\n",
    "param_grid = {\n",
    "    'feature_selection__k': [3, 4, 5],\n",
    "    'model__alpha': [0.1, 1.0, 10.0]\n",
    "}\n",
    "\n",
    "grid = GridSearchCV(pipeline, param_grid, scoring='r2', cv=3)\n",
    "grid.fit(X, y)\n",
    "\n",
    "# Best model evaluation\n",
    "y_pred = grid.predict(X)\n",
    "mse = mean_squared_error(y, y_pred)\n",
    "r2 = r2_score(y, y_pred)\n",
    "\n",
    "print(\"Best parameters:\", grid.best_params_)\n",
    "print(\"Mean Squared Error (on training):\", round(mse, 2))\n",
    "print(\"R² Score (on training):\", round(r2, 2))\n"
   ]
  }
 ],
 "metadata": {
  "kernelspec": {
   "display_name": "Python 3",
   "language": "python",
   "name": "python3"
  },
  "language_info": {
   "codemirror_mode": {
    "name": "ipython",
    "version": 3
   },
   "file_extension": ".py",
   "mimetype": "text/x-python",
   "name": "python",
   "nbconvert_exporter": "python",
   "pygments_lexer": "ipython3",
   "version": "3.10.12"
  }
 },
 "nbformat": 4,
 "nbformat_minor": 2
}
