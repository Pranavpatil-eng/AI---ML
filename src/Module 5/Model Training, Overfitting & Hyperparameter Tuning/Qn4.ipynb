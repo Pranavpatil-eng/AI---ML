{
 "cells": [
  {
   "cell_type": "markdown",
   "metadata": {},
   "source": [
    "Title: Cross-Validation"
   ]
  },
  {
   "cell_type": "markdown",
   "metadata": {},
   "source": [
    "\n",
    "Task 1: K-Fold Cross-Validation for House Prices<br>\n",
    "Apply K-Fold Cross-Validation (K=5) to check variability in performance."
   ]
  },
  {
   "cell_type": "code",
   "execution_count": 7,
   "metadata": {},
   "outputs": [
    {
     "name": "stdout",
     "output_type": "stream",
     "text": [
      "RMSE scores for each fold: [40786.38421711 55842.81165457 67152.44062873 35752.38027593\n",
      " 22972.1335361 ]\n",
      "Mean RMSE: 44501.23\n",
      "Standard Deviation of RMSE: 15463.20\n"
     ]
    }
   ],
   "source": [
    "import numpy as np\n",
    "import pandas as pd\n",
    "from sklearn.linear_model import LinearRegression\n",
    "from sklearn.model_selection import KFold, cross_val_score\n",
    "from sklearn.metrics import mean_squared_error, make_scorer\n",
    "\n",
    "# Example synthetic dataset\n",
    "data = {\n",
    "    'size_sqft': [1500, 1800, 2400, 3000, 3500, 2000, 2800, 2300, 1700, 2600],\n",
    "    'bedrooms': [3, 4, 3, 5, 4, 3, 4, 3, 2, 4],\n",
    "    'price': [400000, 500000, 600000, 650000, 700000, 450000, 620000, 580000, 420000, 610000]\n",
    "}\n",
    "\n",
    "df = pd.DataFrame(data)\n",
    "X = df[['size_sqft', 'bedrooms']]\n",
    "y = df['price']\n",
    "\n",
    "# Define model\n",
    "model = LinearRegression()\n",
    "\n",
    "# Define RMSE scorer (negative MSE with square root)\n",
    "def rmse(y_true, y_pred):\n",
    "    return np.sqrt(mean_squared_error(y_true, y_pred))\n",
    "\n",
    "rmse_scorer = make_scorer(rmse, greater_is_better=False)\n",
    "\n",
    "# Setup K-Fold Cross-Validation\n",
    "kf = KFold(n_splits=5, shuffle=True, random_state=42)\n",
    "\n",
    "# Run cross-validation and get RMSE scores (negative because sklearn expects higher is better)\n",
    "neg_rmse_scores = cross_val_score(model, X, y, scoring=rmse_scorer, cv=kf)\n",
    "\n",
    "# Convert negative RMSE to positive\n",
    "rmse_scores = -neg_rmse_scores\n",
    "\n",
    "print(\"RMSE scores for each fold:\", rmse_scores)\n",
    "print(f\"Mean RMSE: {rmse_scores.mean():.2f}\")\n",
    "print(f\"Standard Deviation of RMSE: {rmse_scores.std():.2f}\")\n"
   ]
  },
  {
   "cell_type": "markdown",
   "metadata": {},
   "source": [
    "Task 2: Stratified K-Fold for Imbalanced Churn Dataset<br>\n",
    "Use Stratified K-Fold to ensure each class is represented."
   ]
  },
  {
   "cell_type": "code",
   "execution_count": 8,
   "metadata": {},
   "outputs": [
    {
     "name": "stdout",
     "output_type": "stream",
     "text": [
      "Fold 1 Accuracy: 0.67\n",
      "Fold 2 Accuracy: 0.67\n",
      "Fold 3 Accuracy: 0.67\n",
      "Fold 4 Accuracy: 1.00\n",
      "Fold 5 Accuracy: 0.67\n",
      "\n",
      "Mean Accuracy over 5 folds: 0.73\n"
     ]
    }
   ],
   "source": [
    "import numpy as np\n",
    "import pandas as pd\n",
    "from sklearn.model_selection import StratifiedKFold\n",
    "from sklearn.ensemble import RandomForestClassifier\n",
    "from sklearn.metrics import accuracy_score\n",
    "\n",
    "# Synthetic imbalanced churn dataset\n",
    "data = {\n",
    "    'age': [25, 45, 35, 50, 23, 40, 60, 48, 33, 36, 30, 28, 42, 55, 29],\n",
    "    'monthly_charges': [70, 90, 80, 75, 60, 85, 95, 77, 66, 73, 68, 72, 88, 92, 65],\n",
    "    'tenure_months': [12, 24, 18, 36, 8, 15, 40, 22, 10, 13, 20, 14, 26, 38, 16],\n",
    "    'churn': [0, 1, 0, 0, 1, 0, 1, 0, 0, 1, 0, 0, 1, 1, 0]  # 0 = no churn, 1 = churn (imbalanced)\n",
    "}\n",
    "\n",
    "df = pd.DataFrame(data)\n",
    "X = df.drop('churn', axis=1).values\n",
    "y = df['churn'].values\n",
    "\n",
    "# Initialize StratifiedKFold\n",
    "skf = StratifiedKFold(n_splits=5, shuffle=True, random_state=42)\n",
    "\n",
    "fold = 1\n",
    "accuracies = []\n",
    "\n",
    "for train_index, test_index in skf.split(X, y):\n",
    "    X_train, X_test = X[train_index], X[test_index]\n",
    "    y_train, y_test = y[train_index], y[test_index]\n",
    "\n",
    "    # Train a classifier\n",
    "    model = RandomForestClassifier(random_state=42)\n",
    "    model.fit(X_train, y_train)\n",
    "\n",
    "    # Predict and evaluate\n",
    "    y_pred = model.predict(X_test)\n",
    "    acc = accuracy_score(y_test, y_pred)\n",
    "    accuracies.append(acc)\n",
    "\n",
    "    print(f\"Fold {fold} Accuracy: {acc:.2f}\")\n",
    "    fold += 1\n",
    "\n",
    "print(f\"\\nMean Accuracy over 5 folds: {np.mean(accuracies):.2f}\")\n"
   ]
  },
  {
   "cell_type": "markdown",
   "metadata": {},
   "source": [
    "Task 3: Leave-One-Out Cross-Validation for Iris<br>\n",
    "Use LOOCV to assess model prediction for the Iris dataset."
   ]
  },
  {
   "cell_type": "code",
   "execution_count": null,
   "metadata": {},
   "outputs": [
    {
     "name": "stdout",
     "output_type": "stream",
     "text": [
      "LOOCV Accuracy on Iris dataset: 0.94\n"
     ]
    }
   ],
   "source": [
    "from sklearn.datasets import load_iris\n",
    "from sklearn.model_selection import LeaveOneOut\n",
    "from sklearn.tree import DecisionTreeClassifier\n",
    "from sklearn.metrics import accuracy_score\n",
    "import numpy as np\n",
    "\n",
    "# Load Iris dataset\n",
    "iris = load_iris()\n",
    "X = iris.data\n",
    "y = iris.target\n",
    "\n",
    "# Initialize Leave-One-Out CV\n",
    "loo = LeaveOneOut()\n",
    "\n",
    "y_true, y_pred = [], []\n",
    "\n",
    "for train_index, test_index in loo.split(X):\n",
    "    X_train, X_test = X[train_index], X[test_index]\n",
    "    y_train, y_test = y[train_index], y[test_index]\n",
    "\n",
    "    model = DecisionTreeClassifier(random_state=42)\n",
    "    model.fit(X_train, y_train)\n",
    "\n",
    "    # Predict on the left-out sample\n",
    "    pred = model.predict(X_test)\n",
    "    \n",
    "    y_true.append(y_test[0])\n",
    "    y_pred.append(pred[0])\n",
    "\n",
    "\n",
    "accuracy = accuracy_score(y_true, y_pred)\n",
    "print(f\"LOOCV Accuracy on Iris dataset: {accuracy:.2f}\")\n"
   ]
  }
 ],
 "metadata": {
  "kernelspec": {
   "display_name": "Python 3",
   "language": "python",
   "name": "python3"
  },
  "language_info": {
   "codemirror_mode": {
    "name": "ipython",
    "version": 3
   },
   "file_extension": ".py",
   "mimetype": "text/x-python",
   "name": "python",
   "nbconvert_exporter": "python",
   "pygments_lexer": "ipython3",
   "version": "3.10.12"
  }
 },
 "nbformat": 4,
 "nbformat_minor": 2
}
