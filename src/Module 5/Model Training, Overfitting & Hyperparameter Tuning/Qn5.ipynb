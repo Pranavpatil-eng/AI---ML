{
 "cells": [
  {
   "cell_type": "markdown",
   "metadata": {},
   "source": [
    "Title: Regularization Techniques"
   ]
  },
  {
   "cell_type": "markdown",
   "metadata": {},
   "source": [
    "Task 1: Ridge Regression on House Prices<br>\n",
    "Apply Ridge regularization to the Linear Regression model."
   ]
  },
  {
   "cell_type": "code",
   "execution_count": null,
   "metadata": {},
   "outputs": [],
   "source": [
    "import numpy as np\n",
    "import pandas as pd\n",
    "from sklearn.linear_model import Ridge\n",
    "from sklearn.model_selection import train_test_split\n",
    "from sklearn.metrics import mean_squared_error\n",
    "\n",
    "# Example synthetic dataset\n",
    "data = {\n",
    "    'size_sqft': [1500, 1800, 2400, 3000, 3500, 2000, 2800, 2300, 1700, 2600],\n",
    "    'bedrooms': [3, 4, 3, 5, 4, 3, 4, 3, 2, 4],\n",
    "    'price': [400000, 500000, 600000, 650000, 700000, 450000, 620000, 580000, 420000, 610000]\n",
    "}\n",
    "\n",
    "df = pd.DataFrame(data)\n",
    "X = df[['size_sqft', 'bedrooms']]\n",
    "y = df['price']\n",
    "\n",
    "# Split dataset into train and test\n",
    "X_train, X_test, y_train, y_test = train_test_split(X, y, test_size=0.2, random_state=42)\n",
    "\n",
    "# Initialize Ridge Regression model with alpha (regularization strength)\n",
    "ridge_model = Ridge(alpha=1.0)  # you can tune alpha\n",
    "\n",
    "# Train the model\n",
    "ridge_model.fit(X_train, y_train)\n",
    "\n",
    "# Predict on test set\n",
    "y_pred = ridge_model.predict(X_test)\n",
    "\n",
    "# Evaluate using RMSE\n",
    "rmse = np.sqrt(mean_squared_error(y_test, y_pred))\n",
    "\n",
    "print(f\"Test RMSE: {rmse:.2f}\")\n"
   ]
  },
  {
   "cell_type": "markdown",
   "metadata": {},
   "source": [
    "Task 2: Lasso Regression for Feature Selection<br>\n",
    "Use Lasso to select important features in the housing data."
   ]
  },
  {
   "cell_type": "code",
   "execution_count": null,
   "metadata": {},
   "outputs": [],
   "source": [
    "import numpy as np\n",
    "import pandas as pd\n",
    "from sklearn.linear_model import Lasso\n",
    "from sklearn.model_selection import train_test_split\n",
    "from sklearn.metrics import mean_squared_error\n",
    "\n",
    "# Example synthetic dataset with more features\n",
    "data = {\n",
    "    'size_sqft': [1500, 1800, 2400, 3000, 3500, 2000, 2800, 2300, 1700, 2600],\n",
    "    'bedrooms': [3, 4, 3, 5, 4, 3, 4, 3, 2, 4],\n",
    "    'age': [10, 15, 20, 5, 8, 12, 18, 7, 11, 9],\n",
    "    'garage': [1, 2, 2, 3, 2, 1, 3, 2, 1, 2],\n",
    "    'price': [400000, 500000, 600000, 650000, 700000, 450000, 620000, 580000, 420000, 610000]\n",
    "}\n",
    "\n",
    "df = pd.DataFrame(data)\n",
    "X = df.drop('price', axis=1)\n",
    "y = df['price']\n",
    "\n",
    "# Split data\n",
    "X_train, X_test, y_train, y_test = train_test_split(X, y, test_size=0.2, random_state=42)\n",
    "\n",
    "# Initialize Lasso regression with alpha (regularization strength)\n",
    "lasso = Lasso(alpha=1000)  # You can tune alpha (larger alpha means more features shrink to zero)\n",
    "\n",
    "# Train model\n",
    "lasso.fit(X_train, y_train)\n",
    "\n",
    "# Predict on test set\n",
    "y_pred = lasso.predict(X_test)\n",
    "\n",
    "# Calculate RMSE\n",
    "rmse = np.sqrt(mean_squared_error(y_test, y_pred))\n",
    "print(f\"Test RMSE: {rmse:.2f}\")\n",
    "\n",
    "# Feature selection - coefficients\n",
    "coefficients = pd.Series(lasso.coef_, index=X.columns)\n",
    "print(\"\\nFeature coefficients:\")\n",
    "print(coefficients)\n",
    "\n",
    "# Important features selected (non-zero coefficients)\n",
    "important_features = coefficients[coefficients != 0].index.tolist()\n",
    "print(\"\\nImportant features selected by Lasso:\")\n",
    "print(important_features)\n"
   ]
  },
  {
   "cell_type": "markdown",
   "metadata": {},
   "source": [
    "Task 3: ElasticNet for Customer Churn<br>\n",
    "Implement ElasticNet to balance between Ridge and Lasso."
   ]
  },
  {
   "cell_type": "code",
   "execution_count": null,
   "metadata": {},
   "outputs": [],
   "source": [
    "import numpy as np\n",
    "import pandas as pd\n",
    "from sklearn.linear_model import ElasticNet\n",
    "from sklearn.model_selection import train_test_split\n",
    "from sklearn.metrics import mean_squared_error\n",
    "\n",
    "# Synthetic customer churn dataset with numeric features\n",
    "data = {\n",
    "    'monthly_charges': [70, 90, 80, 75, 60, 85, 95, 77, 66, 73, 68, 72, 88, 92, 65],\n",
    "    'tenure_months': [12, 24, 18, 36, 8, 15, 40, 22, 10, 13, 20, 14, 26, 38, 16],\n",
    "    'num_complaints': [0, 1, 0, 2, 0, 1, 3, 1, 0, 2, 1, 0, 2, 3, 0],\n",
    "    'churn_rate': [0, 1, 0, 0, 1, 0, 1, 0, 0, 1, 0, 0, 1, 1, 0]  # 0 = no churn, 1 = churn\n",
    "}\n",
    "\n",
    "df = pd.DataFrame(data)\n",
    "\n",
    "X = df.drop('churn_rate', axis=1)\n",
    "y = df['churn_rate']\n",
    "\n",
    "# Split dataset into train/test\n",
    "X_train, X_test, y_train, y_test = train_test_split(X, y, test_size=0.2, random_state=42)\n",
    "\n",
    "# Initialize ElasticNet model\n",
    "# l1_ratio = 0 => Ridge only, 1 => Lasso only, between 0 and 1 balances both\n",
    "elastic_net = ElasticNet(alpha=0.1, l1_ratio=0.5, random_state=42)\n",
    "\n",
    "# Train the model\n",
    "elastic_net.fit(X_train, y_train)\n",
    "\n",
    "# Predict on test set\n",
    "y_pred = elastic_net.predict(X_test)\n",
    "\n",
    "\n",
    "rmse = np.sqrt(mean_squared_error(y_test, y_pred))\n",
    "\n",
    "print(f\"Test RMSE: {rmse:.3f}\")\n",
    "\n",
    "\n",
    "coef = pd.Series(elastic_net.coef_, index=X.columns)\n",
    "print(\"\\nElasticNet feature coefficients:\")\n",
    "print(coef)\n"
   ]
  }
 ],
 "metadata": {
  "kernelspec": {
   "display_name": "Python 3",
   "language": "python",
   "name": "python3"
  },
  "language_info": {
   "codemirror_mode": {
    "name": "ipython",
    "version": 3
   },
   "file_extension": ".py",
   "mimetype": "text/x-python",
   "name": "python",
   "nbconvert_exporter": "python",
   "pygments_lexer": "ipython3",
   "version": "3.10.12"
  }
 },
 "nbformat": 4,
 "nbformat_minor": 2
}
