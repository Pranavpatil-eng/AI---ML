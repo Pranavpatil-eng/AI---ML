{
 "cells": [
  {
   "cell_type": "markdown",
   "metadata": {},
   "source": [
    "Title: Regression Models"
   ]
  },
  {
   "cell_type": "markdown",
   "metadata": {},
   "source": [
    "Ridge & Lasso Regression (Regularization Techniques)"
   ]
  },
  {
   "cell_type": "markdown",
   "metadata": {},
   "source": [
    "\n",
    "Task 1: Use Ridge regression on a dataset with multicollinearity to compare results with linear regression."
   ]
  },
  {
   "cell_type": "code",
   "execution_count": null,
   "metadata": {},
   "outputs": [],
   "source": [
    "import numpy as np\n",
    "import matplotlib.pyplot as plt\n",
    "from sklearn.linear_model import LinearRegression, Ridge\n",
    "from sklearn.metrics import r2_score\n",
    "\n",
    "# Simulated dataset with multicollinearity\n",
    "np.random.seed(0)\n",
    "n_samples = 100\n",
    "\n",
    "X1 = np.random.rand(n_samples)\n",
    "X2 = X1 + np.random.normal(0, 0.01, n_samples)  # Highly correlated with X1\n",
    "X3 = np.random.rand(n_samples)\n",
    "X = np.column_stack((X1, X2, X3))\n",
    "\n",
    "# Target variable\n",
    "y = 3*X1 + 2*X2 + 1.5*X3 + np.random.normal(0, 0.1, n_samples)\n",
    "\n",
    "# Linear Regression\n",
    "lin_reg = LinearRegression()\n",
    "lin_reg.fit(X, y)\n",
    "y_pred_lin = lin_reg.predict(X)\n",
    "\n",
    "# Ridge Regression\n",
    "ridge_reg = Ridge(alpha=1.0)\n",
    "ridge_reg.fit(X, y)\n",
    "y_pred_ridge = ridge_reg.predict(X)\n",
    "\n",
    "# Results\n",
    "print(\"Linear Regression Coefficients:\", lin_reg.coef_)\n",
    "print(\"Ridge Regression Coefficients:\", ridge_reg.coef_)\n",
    "\n",
    "print(\"R² Score - Linear Regression:\", r2_score(y, y_pred_lin))\n",
    "print(\"R² Score - Ridge Regression:\", r2_score(y, y_pred_ridge))\n"
   ]
  },
  {
   "cell_type": "markdown",
   "metadata": {},
   "source": [
    "Task 2: Implement Lasso regression and observe effect on feature selection in feature rich data."
   ]
  },
  {
   "cell_type": "code",
   "execution_count": null,
   "metadata": {},
   "outputs": [],
   "source": [
    "import numpy as np\n",
    "from sklearn.linear_model import Lasso\n",
    "from sklearn.datasets import make_regression\n",
    "import matplotlib.pyplot as plt\n",
    "\n",
    "# Generate synthetic data with many features (some irrelevant)\n",
    "X, y, coef_true = make_regression(\n",
    "    n_samples=100, n_features=20, n_informative=5, noise=0.1, coef=True, random_state=42\n",
    ")\n",
    "\n",
    "# Fit Lasso regression\n",
    "lasso = Lasso(alpha=0.1)  # alpha controls regularization strength\n",
    "lasso.fit(X, y)\n",
    "\n",
    "# Print true vs Lasso estimated coefficients\n",
    "print(\"True coefficients:\\n\", coef_true)\n",
    "print(\"\\nLasso coefficients:\\n\", lasso.coef_)\n",
    "\n",
    "# Visualize coefficients\n",
    "plt.figure(figsize=(10, 6))\n",
    "plt.plot(coef_true, label=\"True coefficients\", marker='o')\n",
    "plt.plot(lasso.coef_, label=\"Lasso coefficients\", marker='x')\n",
    "plt.xlabel(\"Feature index\")\n",
    "plt.ylabel(\"Coefficient value\")\n",
    "plt.title(\"Lasso Regression: Feature Selection Effect\")\n",
    "plt.legend()\n",
    "plt.grid(True)\n",
    "plt.show()\n"
   ]
  },
  {
   "cell_type": "markdown",
   "metadata": {},
   "source": [
    "\n",
    "Task 3: Regularization effects visualization with model complexity and performance metrics comparison."
   ]
  },
  {
   "cell_type": "code",
   "execution_count": 9,
   "metadata": {},
   "outputs": [],
   "source": [
    "import numpy as np\n",
    "import matplotlib.pyplot as plt\n",
    "from sklearn.linear_model import Ridge, Lasso\n",
    "from sklearn.datasets import make_regression\n",
    "from sklearn.metrics import mean_squared_error, r2_score\n",
    "from sklearn.model_selection import train_test_split\n",
    "\n",
    "# Generate synthetic data\n",
    "X, y = make_regression(n_samples=100, n_features=10, noise=20, random_state=42)\n",
    "\n",
    "# Split into train/test\n",
    "X_train, X_test, y_train, y_test = train_test_split(X, y, random_state=42)\n",
    "\n",
    "# Range of alphas to test\n",
    "alphas = np.logspace(-3, 3, 50)\n",
    "\n",
    "ridge_coefs = []\n",
    "lasso_coefs = []\n",
    "ridge_r2 = []\n",
    "lasso_r2 = []\n",
    "\n",
    "for alpha in alphas:\n",
    "    ridge = Ridge(alpha=alpha)\n",
    "    ridge.fit(X_train, y_train)\n",
    "    ridge_coefs.append(ridge.coef_)\n",
    "    ridge_r2.append(r2_score(y_test, ridge.predict(X_test)))\n",
    "    \n",
    "    lasso = Lasso(alpha=alpha, max_iter=10000)\n",
    "    lasso.fit(X_train, y_train)\n",
    "    lasso_coefs.append(lasso.coef_)\n",
    "    lasso_r2.append(r2_score(y_test, lasso.predict(X_test)))\n",
    "\n",
    "ridge_coefs = np.array(ridge_coefs)\n",
    "lasso_coefs = np.array(lasso_coefs)\n",
    "\n",
    "# Plot coefficients paths\n",
    "plt.figure(figsize=(14, 6))\n",
    "\n",
    "plt.subplot(1, 2, 1)\n",
    "for i in range(ridge_coefs.shape[1]):\n",
    "    plt.plot(alphas, ridge_coefs[:, i], label=f'Feature {i}')\n",
    "plt.xscale('log')\n",
    "plt.xlabel('Alpha (log scale)')\n",
    "plt.ylabel('Coefficient value')\n",
    "plt.title('Ridge Coefficients vs Regularization')\n",
    "plt.legend(bbox_to_anchor=(1.05, 1), loc='upper left', fontsize='small')\n",
    "plt.grid(True)\n",
    "\n",
    "plt.subplot(1, 2, 2)\n",
    "for i in range(lasso_coefs.shape[1]):\n",
    "    plt.plot(alphas, lasso_coefs[:, i], label=f'Feature {i}')\n",
    "plt.xscale('log')\n",
    "plt.xlabel('Alpha (log scale)')\n",
    "plt.ylabel('Coefficient value')\n",
    "plt.title('Lasso Coefficients vs Regularization')\n",
    "plt.legend(bbox_to_anchor=(1.05, 1), loc='upper left', fontsize='small')\n",
    "plt.grid(True)\n",
    "\n",
    "plt.tight_layout()\n",
    "plt.show()\n",
    "\n",
    "# Plot R² scores vs alpha\n",
    "plt.figure(figsize=(8, 5))\n",
    "plt.plot(alphas, ridge_r2, label='Ridge R²')\n",
    "plt.plot(alphas, lasso_r2, label='Lasso R²')\n",
    "plt.xscale('log')\n",
    "plt.xlabel('Alpha (log scale)')\n",
    "plt.ylabel('R² Score')\n",
    "plt.title('Model Performance vs Regularization Strength')\n",
    "plt.legend()\n",
    "plt.grid(True)\n",
    "plt.show()\n"
   ]
  }
 ],
 "metadata": {
  "kernelspec": {
   "display_name": "Python 3",
   "language": "python",
   "name": "python3"
  },
  "language_info": {
   "codemirror_mode": {
    "name": "ipython",
    "version": 3
   },
   "file_extension": ".py",
   "mimetype": "text/x-python",
   "name": "python",
   "nbconvert_exporter": "python",
   "pygments_lexer": "ipython3",
   "version": "3.10.12"
  }
 },
 "nbformat": 4,
 "nbformat_minor": 2
}
