{
 "cells": [
  {
   "cell_type": "markdown",
   "metadata": {},
   "source": [
    "Title: Regression Models"
   ]
  },
  {
   "cell_type": "markdown",
   "metadata": {},
   "source": [
    "Polynomial Regression"
   ]
  },
  {
   "cell_type": "markdown",
   "metadata": {},
   "source": [
    "Task 1: Apply polynomial regression to a dataset showing the relationship between age and income."
   ]
  },
  {
   "cell_type": "code",
   "execution_count": null,
   "metadata": {},
   "outputs": [],
   "source": [
    "import numpy as np\n",
    "import matplotlib.pyplot as plt\n",
    "from sklearn.linear_model import LinearRegression\n",
    "from sklearn.preprocessing import PolynomialFeatures\n",
    "\n",
    "# Sample dataset: Age vs Income\n",
    "age = np.array([18, 22, 25, 30, 35, 40, 50, 60]).reshape(-1, 1)\n",
    "income = np.array([15000, 20000, 25000, 40000, 45000, 48000, 47000, 42000])\n",
    "\n",
    "# Transform the data to include polynomial features (degree=2)\n",
    "poly = PolynomialFeatures(degree=2)\n",
    "age_poly = poly.fit_transform(age)\n",
    "\n",
    "# Fit the polynomial regression model\n",
    "model = LinearRegression()\n",
    "model.fit(age_poly, income)\n",
    "\n",
    "# Predict income using the trained model\n",
    "age_range = np.linspace(18, 60, 100).reshape(-1, 1)\n",
    "age_range_poly = poly.transform(age_range)\n",
    "income_pred = model.predict(age_range_poly)\n",
    "\n",
    "# Plot the results\n",
    "plt.scatter(age, income, color='blue', label='Actual Data')\n",
    "plt.plot(age_range, income_pred, color='red', label='Polynomial Regression Curve')\n",
    "plt.xlabel('Age')\n",
    "plt.ylabel('Income')\n",
    "plt.title('Polynomial Regression: Age vs Income')\n",
    "plt.legend()\n",
    "plt.grid(True)\n",
    "plt.show()\n"
   ]
  },
  {
   "cell_type": "markdown",
   "metadata": {},
   "source": [
    "Task 2: Explore and visualize a higher-degree polynomial fitting compared to a simple linear regression."
   ]
  },
  {
   "cell_type": "code",
   "execution_count": null,
   "metadata": {},
   "outputs": [],
   "source": [
    "import numpy as np\n",
    "import matplotlib.pyplot as plt\n",
    "from sklearn.linear_model import LinearRegression\n",
    "from sklearn.preprocessing import PolynomialFeatures\n",
    "\n",
    "# Sample data: Age vs Income (nonlinear relationship)\n",
    "age = np.array([20, 25, 30, 35, 40, 45, 50, 55, 60]).reshape(-1, 1)\n",
    "income = np.array([15, 18, 22, 28, 36, 38, 37, 32, 26])\n",
    "\n",
    "# ---------- Linear Regression ----------\n",
    "linear_model = LinearRegression()\n",
    "linear_model.fit(age, income)\n",
    "income_linear_pred = linear_model.predict(age)\n",
    "\n",
    "# ---------- Polynomial Regression (Degree = 4) ----------\n",
    "poly = PolynomialFeatures(degree=4)\n",
    "age_poly = poly.fit_transform(age)\n",
    "\n",
    "poly_model = LinearRegression()\n",
    "poly_model.fit(age_poly, income)\n",
    "income_poly_pred = poly_model.predict(age_poly)\n",
    "\n",
    "# ---------- Plot ----------\n",
    "plt.figure(figsize=(10, 6))\n",
    "plt.scatter(age, income, color='blue', label='Actual Data')\n",
    "\n",
    "# Linear regression line\n",
    "plt.plot(age, income_linear_pred, color='green', linestyle='--', label='Linear Regression')\n",
    "\n",
    "# Polynomial regression curve\n",
    "plt.plot(age, income_poly_pred, color='red', label='Polynomial Regression (Degree=4)')\n",
    "\n",
    "plt.xlabel(\"Age (years)\")\n",
    "plt.ylabel(\"Income ($1000s)\")\n",
    "plt.title(\"Linear vs Polynomial Regression\")\n",
    "plt.legend()\n",
    "plt.grid(True)\n",
    "plt.show()\n"
   ]
  },
  {
   "cell_type": "markdown",
   "metadata": {},
   "source": [
    "Task 3: Dataset with cyclical patterns such as tides or circadian cycles."
   ]
  },
  {
   "cell_type": "code",
   "execution_count": null,
   "metadata": {},
   "outputs": [],
   "source": [
    "import numpy as np\n",
    "import matplotlib.pyplot as plt\n",
    "from sklearn.linear_model import LinearRegression\n",
    "from sklearn.preprocessing import FunctionTransformer\n",
    "from sklearn.pipeline import make_pipeline\n",
    "\n",
    "# Simulated cyclical data: e.g., 24-hour circadian rhythm (time vs. hormone level)\n",
    "time_hours = np.linspace(0, 24, 100).reshape(-1, 1)  # 0 to 24 hours\n",
    "hormone_levels = 10 + 5 * np.sin((2 * np.pi / 24) * time_hours).ravel() + np.random.normal(0, 0.5, 100)\n",
    "\n",
    "# Add sinusoidal features: sin(2πt/24), cos(2πt/24)\n",
    "sin_transformer = FunctionTransformer(lambda x: np.hstack([\n",
    "    np.sin(2 * np.pi * x / 24),\n",
    "    np.cos(2 * np.pi * x / 24)\n",
    "]), validate=True)\n",
    "\n",
    "# Build and fit the pipeline\n",
    "model = make_pipeline(sin_transformer, LinearRegression())\n",
    "model.fit(time_hours, hormone_levels)\n",
    "predictions = model.predict(time_hours)\n",
    "\n",
    "# Plot\n",
    "plt.figure(figsize=(10, 6))\n",
    "plt.scatter(time_hours, hormone_levels, color='blue', label='Observed Data', alpha=0.6)\n",
    "plt.plot(time_hours, predictions, color='red', label='Sinusoidal Fit', linewidth=2)\n",
    "plt.xlabel(\"Time (hours)\")\n",
    "plt.ylabel(\"Hormone Level\")\n",
    "plt.title(\"Circadian Rhythm Modeled with Sinusoidal Regression\")\n",
    "plt.legend()\n",
    "plt.grid(True)\n",
    "plt.show()\n"
   ]
  }
 ],
 "metadata": {
  "kernelspec": {
   "display_name": "Python 3",
   "language": "python",
   "name": "python3"
  },
  "language_info": {
   "codemirror_mode": {
    "name": "ipython",
    "version": 3
   },
   "file_extension": ".py",
   "mimetype": "text/x-python",
   "name": "python",
   "nbconvert_exporter": "python",
   "pygments_lexer": "ipython3",
   "version": "3.10.12"
  }
 },
 "nbformat": 4,
 "nbformat_minor": 2
}
