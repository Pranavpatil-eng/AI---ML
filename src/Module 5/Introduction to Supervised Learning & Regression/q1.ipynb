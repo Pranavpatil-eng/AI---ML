{
 "cells": [
  {
   "cell_type": "markdown",
   "metadata": {},
   "source": [
    "Question 1: Implementing Linear Regression <br>\n",
    "\n",
    "Description:<br>\n",
    "Implement a simple linear regression model using Python and scikit-learn to predict house prices based on one feature: the size of the house."
   ]
  },
  {
   "cell_type": "code",
   "execution_count": null,
   "metadata": {},
   "outputs": [],
   "source": [
    "import numpy as np\n",
    "import matplotlib.pyplot as plt\n",
    "from sklearn.linear_model import LinearRegression\n",
    "from sklearn.model_selection import train_test_split\n",
    "from sklearn.metrics import mean_squared_error\n",
    "\n",
    "# Sample data (replace with your actual data)\n",
    "house_size = np.array([1000, 1500, 1200, 1800, 1400, 1600]).reshape(-1, 1)  # Size in sq ft\n",
    "house_price = np.array([200000, 300000, 240000, 360000, 280000, 320000])  # Price in USD\n",
    "\n",
    "# Split the data into training and testing sets\n",
    "X_train, X_test, y_train, y_test = train_test_split(house_size, house_price, test_size=0.2, random_state=42)\n",
    "\n",
    "# Create a Linear Regression model\n",
    "model = LinearRegression()\n",
    "\n",
    "# Train the model using the training data\n",
    "model.fit(X_train, y_train)\n",
    "\n",
    "# Make predictions on the test data\n",
    "y_pred = model.predict(X_test)\n",
    "\n",
    "# Evaluate the model\n",
    "mse = mean_squared_error(y_test, y_pred)\n",
    "print(f\"Mean Squared Error: {mse:.2f}\")\n",
    "\n",
    "# Get the coefficients (slope and intercept)\n",
    "slope = model.coef_[0]\n",
    "intercept = model.intercept_\n",
    "print(f\"Slope (Coefficient): {slope:.2f}\")\n",
    "print(f\"Intercept: {intercept:.2f}\")\n",
    "# Visualize the data and the regression line\n",
    "plt.scatter(X_train, y_train, color='blue', label='Training Data')\n",
    "plt.scatter(X_test, y_test, color='green', label='Testing Data')\n",
    "plt.plot(house_size, model.predict(house_size), color='red', label='Linear Regression Line')\n",
    "plt.xlabel('House Size (sq ft)')\n",
    "plt.ylabel('House Price (USD)')\n",
    "plt.title('Linear Regression: House Price vs. House Size')\n",
    "plt.legend()\n",
    "plt.grid(True)\n",
    "plt.show()\n",
    "\n",
    "# Make a new prediction\n",
    "new_house_size = np.array([[1300]])\n",
    "predicted_price = model.predict(new_house_size)\n",
    "print(f\"Predicted price for a house of size {new_house_size[0][0]} sq ft: ${predicted_price[0]:.2f}\")\n"
   ]
  }
 ],
 "metadata": {
  "kernelspec": {
   "display_name": "Python 3",
   "language": "python",
   "name": "python3"
  },
  "language_info": {
   "codemirror_mode": {
    "name": "ipython",
    "version": 3
   },
   "file_extension": ".py",
   "mimetype": "text/x-python",
   "name": "python",
   "nbconvert_exporter": "python",
   "pygments_lexer": "ipython3",
   "version": "3.10.12"
  }
 },
 "nbformat": 4,
 "nbformat_minor": 2
}
