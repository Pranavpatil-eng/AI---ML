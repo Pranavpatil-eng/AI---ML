{
 "cells": [
  {
   "cell_type": "markdown",
   "metadata": {},
   "source": [
    "Title: Supervised Learning "
   ]
  },
  {
   "cell_type": "markdown",
   "metadata": {},
   "source": [
    "Task 1: Identify input-output pairs in a dataset of housing prices."
   ]
  },
  {
   "cell_type": "code",
   "execution_count": 10,
   "metadata": {},
   "outputs": [
    {
     "name": "stdout",
     "output_type": "stream",
     "text": [
      "Input features (X):\n",
      "   Size  Bedrooms  Age  Location_Score\n",
      "0  1400         3   10               8\n",
      "1  1600         4    5               9\n",
      "2  1700         3    8               7\n",
      "3  1200         2   20               6\n",
      "4  2000         5    3              10\n",
      "\n",
      "Output variable (y):\n",
      "0    300000\n",
      "1    350000\n",
      "2    320000\n",
      "3    250000\n",
      "4    450000\n",
      "Name: Price, dtype: int64\n"
     ]
    }
   ],
   "source": [
    "import pandas as pd\n",
    "\n",
    "# Step 1: Load or create a housing prices dataset\n",
    "data = pd.DataFrame({\n",
    "    'Size': [1400, 1600, 1700, 1200, 2000],\n",
    "    'Bedrooms': [3, 4, 3, 2, 5],\n",
    "    'Age': [10, 5, 8, 20, 3],\n",
    "    'Location_Score': [8, 9, 7, 6, 10],\n",
    "    'Price': [300000, 350000, 320000, 250000, 450000]\n",
    "})\n",
    "\n",
    "# Step 2: Identify input and output pairs\n",
    "X = data[['Size', 'Bedrooms', 'Age', 'Location_Score']]  # Inputs (features)\n",
    "y = data['Price']  # Output (target)\n",
    "\n",
    "# Step 3: Display the input and output\n",
    "print(\"Input features (X):\")\n",
    "print(X)\n",
    "\n",
    "print(\"\\nOutput variable (y):\")\n",
    "print(y)\n"
   ]
  },
  {
   "cell_type": "markdown",
   "metadata": {},
   "source": [
    "Task 2: Match labeled images to their correct classifications."
   ]
  },
  {
   "cell_type": "code",
   "execution_count": 11,
   "metadata": {},
   "outputs": [
    {
     "name": "stdout",
     "output_type": "stream",
     "text": [
      "Accuracy: 0.98\n"
     ]
    },
    {
     "data": {
      "image/png": "[encoded data removed]",
      "text/plain": [
       "<Figure size 1000x400 with 10 Axes>"
      ]
     },
     "metadata": {},
     "output_type": "display_data"
    }
   ],
   "source": [
    "from sklearn.datasets import load_digits\n",
    "from sklearn.model_selection import train_test_split\n",
    "from sklearn.neighbors import KNeighborsClassifier\n",
    "from sklearn.metrics import accuracy_score\n",
    "import matplotlib.pyplot as plt\n",
    "\n",
    "# Step 1: Load the digits dataset\n",
    "digits = load_digits()\n",
    "X = digits.data          # Flattened 8x8 image pixels\n",
    "y = digits.target        # True labels (0 to 9)\n",
    "\n",
    "# Step 2: Split into training and test sets\n",
    "X_train, X_test, y_train, y_test = train_test_split(X, y, test_size=0.2, random_state=42)\n",
    "\n",
    "# Step 3: Train a classifier (KNN)\n",
    "knn = KNeighborsClassifier(n_neighbors=3)\n",
    "knn.fit(X_train, y_train)\n",
    "\n",
    "# Step 4: Predict on the test set\n",
    "y_pred = knn.predict(X_test)\n",
    "\n",
    "# Step 5: Evaluate accuracy\n",
    "accuracy = accuracy_score(y_test, y_pred)\n",
    "print(f\"Accuracy: {accuracy:.2f}\")\n",
    "\n",
    "# Step 6: Visualize some predictions\n",
    "plt.figure(figsize=(10, 4))\n",
    "for i in range(10):\n",
    "    plt.subplot(2, 5, i + 1)\n",
    "    plt.imshow(X_test[i].reshape(8, 8), cmap='gray')\n",
    "    plt.title(f\"Pred: {y_pred[i]}\\nTrue: {y_test[i]}\")\n",
    "    plt.axis('off')\n",
    "plt.tight_layout()\n",
    "plt.show()\n"
   ]
  },
  {
   "cell_type": "markdown",
   "metadata": {},
   "source": [
    "Task 3: List potential inputs and outputs for predicting stock prices."
   ]
  },
  {
   "cell_type": "code",
   "execution_count": null,
   "metadata": {},
   "outputs": [
    {
     "name": "stdout",
     "output_type": "stream",
     "text": [
      "Inputs (Features):\n",
      "   Open  High  Low   Volume  Moving_Avg_5  RSI\n",
      "0   150   155  149  1000000           152   45\n",
      "1   153   156  151  1100000           153   50\n",
      "2   155   158  153  1050000           154   55\n",
      "3   157   159  155  1200000           155   60\n",
      "4   160   162  157  1250000           156   65\n",
      "\n",
      "Output (Target - Next Day Close Price):\n",
      "0    154\n",
      "1    155\n",
      "2    157\n",
      "3    158\n",
      "4    161\n",
      "Name: Close, dtype: int64\n"
     ]
    }
   ],
   "source": [
    "import pandas as pd\n",
    "\n",
    "# Step 1: Create a sample stock dataset\n",
    "data = pd.DataFrame({\n",
    "    'Open': [150, 153, 155, 157, 160],\n",
    "    'High': [155, 156, 158, 159, 162],\n",
    "    'Low': [149, 151, 153, 155, 157],\n",
    "    'Close': [154, 155, 157, 158, 161],  # Target variable (next day's close)\n",
    "    'Volume': [1000000, 1100000, 1050000, 1200000, 1250000],\n",
    "    'Moving_Avg_5': [152, 153, 154, 155, 156],\n",
    "    'RSI': [45, 50, 55, 60, 65]\n",
    "})\n",
    "\n",
    "# Step 2: Define input features (X) and output (y)\n",
    "X = data[['Open', 'High', 'Low', 'Volume', 'Moving_Avg_5', 'RSI']]  # Potential predictors\n",
    "y = data['Close']  # The output we want to predict\n",
    "\n",
    "# Step 3: Display the input-output split\n",
    "print(\"Inputs (Features):\")\n",
    "print(X)\n",
    "print(\"\\nOutput (Target - Next Day Close Price):\")\n",
    "print(y)\n"
   ]
  }
 ],
 "metadata": {
  "kernelspec": {
   "display_name": "Python 3",
   "language": "python",
   "name": "python3"
  },
  "language_info": {
   "codemirror_mode": {
    "name": "ipython",
    "version": 3
   },
   "file_extension": ".py",
   "mimetype": "text/x-python",
   "name": "python",
   "nbconvert_exporter": "python",
   "pygments_lexer": "ipython3",
   "version": "3.10.12"
  }
 },
 "nbformat": 4,
 "nbformat_minor": 2
}
