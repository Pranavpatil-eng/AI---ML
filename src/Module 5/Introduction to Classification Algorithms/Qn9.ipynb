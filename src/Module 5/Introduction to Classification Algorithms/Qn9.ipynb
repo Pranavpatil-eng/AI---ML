{
 "cells": [
  {
   "cell_type": "markdown",
   "metadata": {},
   "source": [
    "Title: Classification Model Performance Metrics"
   ]
  },
  {
   "cell_type": "markdown",
   "metadata": {},
   "source": [
    "Sub-Title: Confusion Matrix"
   ]
  },
  {
   "cell_type": "markdown",
   "metadata": {},
   "source": [
    "Task 1: Construct and interpret a confusion matrix for tumor classification."
   ]
  },
  {
   "cell_type": "code",
   "execution_count": null,
   "metadata": {},
   "outputs": [],
   "source": [
    "import numpy as np\n",
    "from sklearn.metrics import confusion_matrix, ConfusionMatrixDisplay, classification_report\n",
    "\n",
    "# Simulated ground truth (0 = Benign, 1 = Malignant)\n",
    "y_true = np.array([0, 1, 0, 1, 1, 0, 1, 1, 0, 1])\n",
    "# Simulated predictions from a classifier\n",
    "y_pred = np.array([0, 1, 0, 0, 1, 0, 1, 1, 1, 1])\n",
    "\n",
    "# Generate confusion matrix\n",
    "cm = confusion_matrix(y_true, y_pred, labels=[0, 1])\n",
    "disp = ConfusionMatrixDisplay(confusion_matrix=cm, display_labels=[\"Benign\", \"Malignant\"])\n",
    "\n",
    "# Display confusion matrix\n",
    "disp.plot(cmap=\"Blues\")\n",
    "disp.ax_.set_title(\"🧪 Confusion Matrix – Tumor Classification\")\n",
    "disp.ax_.set_xlabel(\"Predicted Label\")\n",
    "disp.ax_.set_ylabel(\"True Label\")\n",
    "\n",
    "# Print classification metrics\n",
    "print(\"📊 Classification Report:\")\n",
    "print(classification_report(y_true, y_pred, target_names=[\"Benign\", \"Malignant\"]))\n"
   ]
  },
  {
   "cell_type": "markdown",
   "metadata": {},
   "source": [
    "Task 2: Create a confusion matrix for fraud detection model evaluation."
   ]
  },
  {
   "cell_type": "code",
   "execution_count": null,
   "metadata": {},
   "outputs": [],
   "source": [
    "import numpy as np\n",
    "from sklearn.metrics import confusion_matrix, ConfusionMatrixDisplay, classification_report\n",
    "\n",
    "# Simulated actual and predicted labels\n",
    "# 0 = Legitimate, 1 = Fraudulent\n",
    "y_true = np.array([0, 0, 1, 1, 0, 0, 1, 0, 1, 1])\n",
    "y_pred = np.array([0, 0, 1, 0, 0, 0, 1, 1, 1, 1])\n",
    "\n",
    "# Generate confusion matrix\n",
    "cm = confusion_matrix(y_true, y_pred, labels=[0, 1])\n",
    "disp = ConfusionMatrixDisplay(confusion_matrix=cm, display_labels=[\"Legitimate\", \"Fraudulent\"])\n",
    "\n",
    "# Display the matrix\n",
    "disp.plot(cmap=\"Oranges\")\n",
    "disp.ax_.set_title(\"🔍 Confusion Matrix – Fraud Detection\")\n",
    "disp.ax_.set_xlabel(\"Predicted Label\")\n",
    "disp.ax_.set_ylabel(\"True Label\")\n",
    "\n",
    "# Detailed classification report\n",
    "print(\"\\n📊 Classification Report:\")\n",
    "print(classification_report(y_true, y_pred, target_names=[\"Legitimate\", \"Fraudulent\"]))\n"
   ]
  },
  {
   "cell_type": "markdown",
   "metadata": {},
   "source": [
    "\n",
    "Task 3: Use confusion matrix to evaluate model predicting employee retention."
   ]
  },
  {
   "cell_type": "code",
   "execution_count": null,
   "metadata": {},
   "outputs": [],
   "source": [
    "import numpy as np\n",
    "from sklearn.metrics import confusion_matrix, ConfusionMatrixDisplay, classification_report\n",
    "\n",
    "# Simulated true labels (0 = Leaves, 1 = Stays)\n",
    "y_true = np.array([1, 0, 1, 1, 0, 0, 1, 0, 1, 1])\n",
    "# Simulated predicted labels\n",
    "y_pred = np.array([1, 0, 1, 0, 0, 0, 1, 1, 1, 0])\n",
    "\n",
    "# Generate confusion matrix\n",
    "cm = confusion_matrix(y_true, y_pred, labels=[0, 1])\n",
    "disp = ConfusionMatrixDisplay(confusion_matrix=cm, display_labels=[\"Leaves\", \"Stays\"])\n",
    "\n",
    "disp.plot(cmap=\"Greens\")\n",
    "disp.ax_.set_title(\"🧑‍💼 Confusion Matrix – Employee Retention Prediction\")\n",
    "disp.ax_.set_xlabel(\"Predicted Label\")\n",
    "disp.ax_.set_ylabel(\"True Label\")\n",
    "\n",
    "print(\"\\n📊 Classification Report:\")\n",
    "print(classification_report(y_true, y_pred, target_names=[\"Leaves\", \"Stays\"]))\n",
    "\n"
   ]
  },
  {
   "cell_type": "markdown",
   "metadata": {},
   "source": []
  }
 ],
 "metadata": {
  "kernelspec": {
   "display_name": "Python 3",
   "language": "python",
   "name": "python3"
  },
  "language_info": {
   "codemirror_mode": {
    "name": "ipython",
    "version": 3
   },
   "file_extension": ".py",
   "mimetype": "text/x-python",
   "name": "python",
   "nbconvert_exporter": "python",
   "pygments_lexer": "ipython3",
   "version": "3.10.12"
  }
 },
 "nbformat": 4,
 "nbformat_minor": 2
}
