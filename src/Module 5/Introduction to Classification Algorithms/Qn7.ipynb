{
 "cells": [
  {
   "cell_type": "markdown",
   "metadata": {},
   "source": [
    "Title: Popular Classification Algorithms"
   ]
  },
  {
   "cell_type": "markdown",
   "metadata": {},
   "source": [
    "\n",
    "K Nearst Neighbors (KNN)"
   ]
  },
  {
   "cell_type": "markdown",
   "metadata": {},
   "source": [
    "Task 1: Classify fruits based on weight and color."
   ]
  },
  {
   "cell_type": "code",
   "execution_count": null,
   "metadata": {},
   "outputs": [],
   "source": [
    "import pandas as pd\n",
    "from sklearn.model_selection import train_test_split\n",
    "from sklearn.preprocessing import LabelEncoder\n",
    "from sklearn.linear_model import LogisticRegression\n",
    "from sklearn.metrics import accuracy_score, classification_report\n",
    "\n",
    "# Sample dataset\n",
    "data = {\n",
    "    'weight': [150, 170, 140, 130, 180, 120, 160, 110],\n",
    "    'color': ['red', 'green', 'red', 'yellow', 'green', 'yellow', 'red', 'green'],\n",
    "    'fruit': ['apple', 'apple', 'apple', 'banana', 'apple', 'banana', 'apple', 'banana']\n",
    "}\n",
    "\n",
    "df = pd.DataFrame(data)\n",
    "\n",
    "# Encode color and fruit labels\n",
    "le_color = LabelEncoder()\n",
    "le_fruit = LabelEncoder()\n",
    "\n",
    "df['color_encoded'] = le_color.fit_transform(df['color'])   # red=2, green=1, yellow=0\n",
    "df['fruit_encoded'] = le_fruit.fit_transform(df['fruit'])   # apple=0, banana=1\n",
    "\n",
    "# Features and target\n",
    "X = df[['weight', 'color_encoded']]\n",
    "y = df['fruit_encoded']\n",
    "\n",
    "# Split into train and test sets\n",
    "X_train, X_test, y_train, y_test = train_test_split(X, y, test_size=0.25, random_state=42)\n",
    "\n",
    "# Train a classifier\n",
    "model = LogisticRegression()\n",
    "model.fit(X_train, y_train)\n",
    "\n",
    "# Predict\n",
    "y_pred = model.predict(X_test)\n",
    "\n",
    "# Evaluation\n",
    "print(\"Accuracy:\", accuracy_score(y_test, y_pred))\n",
    "print(\"Classification Report:\\n\", classification_report(y_test, y_pred, target_names=le_fruit.classes_))\n",
    "\n",
    "# Optional: predict on a new fruit\n",
    "new_data = pd.DataFrame({'weight': [145], 'color': ['yellow']})\n",
    "new_data['color_encoded'] = le_color.transform(new_data['color'])\n",
    "prediction = model.predict(new_data[['weight', 'color_encoded']])\n",
    "predicted_fruit = le_fruit.inverse_transform(prediction)\n",
    "print(\"Predicted Fruit:\", predicted_fruit[0])\n",
    "\n"
   ]
  },
  {
   "cell_type": "markdown",
   "metadata": {},
   "source": [
    "Task 2: Predict customer clothing size based on height and weight."
   ]
  },
  {
   "cell_type": "code",
   "execution_count": null,
   "metadata": {},
   "outputs": [],
   "source": [
    "import pandas as pd\n",
    "from sklearn.model_selection import train_test_split\n",
    "from sklearn.tree import DecisionTreeClassifier\n",
    "from sklearn.metrics import accuracy_score, classification_report\n",
    "\n",
    "# Sample dataset: height (cm), weight (kg), and clothing size\n",
    "data = {\n",
    "    'height': [160, 165, 170, 175, 180, 185, 150, 155, 190, 195],\n",
    "    'weight': [55, 60, 65, 70, 75, 80, 45, 50, 90, 95],\n",
    "    'size': ['S', 'S', 'M', 'M', 'L', 'L', 'S', 'S', 'XL', 'XL']\n",
    "}\n",
    "\n",
    "df = pd.DataFrame(data)\n",
    "\n",
    "# Encode clothing size labels\n",
    "df['size_encoded'] = df['size'].map({'S': 0, 'M': 1, 'L': 2, 'XL': 3})\n",
    "\n",
    "# Features and target\n",
    "X = df[['height', 'weight']]\n",
    "y = df['size_encoded']\n",
    "\n",
    "# Split dataset\n",
    "X_train, X_test, y_train, y_test = train_test_split(X, y, test_size=0.2, random_state=42)\n",
    "\n",
    "# Train a Decision Tree Classifier\n",
    "clf = DecisionTreeClassifier(random_state=42)\n",
    "clf.fit(X_train, y_train)\n",
    "\n",
    "# Predict\n",
    "y_pred = clf.predict(X_test)\n",
    "\n",
    "# Decode predicted size\n",
    "size_map = {0: 'S', 1: 'M', 2: 'L', 3: 'XL'}\n",
    "decoded_pred = [size_map[i] for i in y_pred]\n",
    "decoded_true = [size_map[i] for i in y_test]\n",
    "\n",
    "# Evaluation\n",
    "print(\"Accuracy:\", accuracy_score(y_test, y_pred))\n",
    "print(\"Classification Report:\\n\", classification_report(decoded_true, decoded_pred))\n",
    "\n",
    "# Optional: Predict a new customer's size\n",
    "new_customer = pd.DataFrame({'height': [172], 'weight': [68]})\n",
    "predicted_size = size_map[clf.predict(new_customer)[0]]\n",
    "print(\"Predicted clothing size for customer:\", predicted_size)\n",
    "\n"
   ]
  },
  {
   "cell_type": "markdown",
   "metadata": {},
   "source": [
    "Task 3: Determine optimal movie recommendation based on viewer preferences."
   ]
  },
  {
   "cell_type": "code",
   "execution_count": null,
   "metadata": {},
   "outputs": [],
   "source": [
    "import pandas as pd\n",
    "from sklearn.feature_extraction.text import TfidfVectorizer\n",
    "from sklearn.metrics.pairwise import cosine_similarity\n",
    "\n",
    "# Sample movie dataset\n",
    "data = {\n",
    "    'title': [\n",
    "        'The Matrix', 'Inception', 'The Godfather', 'The Dark Knight',\n",
    "        'Pulp Fiction', 'Interstellar', 'The Hangover', 'Titanic'\n",
    "    ],\n",
    "    'genre': [\n",
    "        'Action Sci-Fi', 'Action Sci-Fi Thriller', 'Crime Drama', 'Action Crime Drama',\n",
    "        'Crime Drama', 'Adventure Drama Sci-Fi', 'Comedy', 'Romance Drama'\n",
    "    ]\n",
    "}\n",
    "\n",
    "df = pd.DataFrame(data)\n",
    "\n",
    "# Viewer preference (this would usually come from user profile or input)\n",
    "viewer_preferences = \"Action Sci-Fi Thriller\"\n",
    "\n",
    "# Convert genres and preferences into TF-IDF vectors\n",
    "vectorizer = TfidfVectorizer()\n",
    "genre_matrix = vectorizer.fit_transform(df['genre'])\n",
    "\n",
    "# Transform viewer preference using the same vectorizer\n",
    "preference_vector = vectorizer.transform([viewer_preferences])\n",
    "\n",
    "# Compute cosine similarity between viewer preference and each movie\n",
    "similarities = cosine_similarity(preference_vector, genre_matrix).flatten()\n",
    "\n",
    "# Get the top recommended movie\n",
    "top_index = similarities.argmax()\n",
    "recommended_movie = df.iloc[top_index]['title']\n",
    "\n",
    "# Display result\n",
    "print(\"🎬 Recommended Movie:\", recommended_movie)\n",
    "print(\"🔍 Similarity Score:\", similarities[top_index])\n",
    "\n"
   ]
  }
 ],
 "metadata": {
  "kernelspec": {
   "display_name": "Python 3",
   "language": "python",
   "name": "python3"
  },
  "language_info": {
   "codemirror_mode": {
    "name": "ipython",
    "version": 3
   },
   "file_extension": ".py",
   "mimetype": "text/x-python",
   "name": "python",
   "nbconvert_exporter": "python",
   "pygments_lexer": "ipython3",
   "version": "3.10.12"
  }
 },
 "nbformat": 4,
 "nbformat_minor": 2
}
