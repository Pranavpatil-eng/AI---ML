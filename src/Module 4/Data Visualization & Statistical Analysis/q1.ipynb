{
 "cells": [
  {
   "cell_type": "markdown",
   "metadata": {},
   "source": [
    "Title: Histogram of a Single Feature <br>\n",
    "\n",
    "Question 1: Create a histogram for the age feature from a dataset. Interpret what the shape of the histogram tells us about the distribution of the age feature."
   ]
  },
  {
   "cell_type": "code",
   "execution_count": null,
   "metadata": {},
   "outputs": [],
   "source": [
    "import pandas as pd\n",
    "import matplotlib.pyplot as plt\n",
    "\n",
    "# Example dataset (replace with your own or load it from a file)\n",
    "data = {\n",
    "    'age': [22, 25, 30, 22, 45, 35, 40, 28, 50, 60, 22, 27, 25, 32, 38, 41, 23, 24, 26, 30]\n",
    "}\n",
    "df = pd.DataFrame(data)\n",
    "\n",
    "# Create the histogram\n",
    "plt.hist(df['age'], bins=8, edgecolor='black')\n",
    "plt.title('Histogram of Age')\n",
    "plt.xlabel('Age')\n",
    "plt.ylabel('Frequency')\n",
    "plt.grid(True)\n",
    "plt.show()\n"
   ]
  },
  {
   "cell_type": "markdown",
   "metadata": {},
   "source": [
    "Title: Boxplot for a Single Feature <br>\n",
    "\n",
    "Question 2: Generate a boxplot for the salary feature and identify any outliers."
   ]
  },
  {
   "cell_type": "code",
   "execution_count": null,
   "metadata": {},
   "outputs": [],
   "source": [
    "\n",
    "import pandas as pd\n",
    "import matplotlib.pyplot as plt\n",
    "import seaborn as sns\n",
    "\n",
    "# Example dataset (replace with your own or load it from a file)\n",
    "data = {\n",
    "    'salary': [35000, 42000, 39000, 47000, 52000, 56000, 58000, 60000, 65000, 70000, 120000]\n",
    "}\n",
    "df = pd.DataFrame(data)\n",
    "\n",
    "# Create the boxplot\n",
    "plt.figure(figsize=(6, 4))\n",
    "sns.boxplot(x=df['salary'])\n",
    "plt.title('Boxplot of Salary')\n",
    "plt.xlabel('Salary')\n",
    "plt.grid(True)\n",
    "plt.show()\n"
   ]
  },
  {
   "cell_type": "markdown",
   "metadata": {},
   "source": [
    "Title: Violin Plot of a Single Feature <br>\n",
    "\n",
    "Question 3: Use a violin plot to visualize the distribution of the height feature and comment on its shape."
   ]
  },
  {
   "cell_type": "code",
   "execution_count": null,
   "metadata": {},
   "outputs": [],
   "source": [
    "import pandas as pd\n",
    "import seaborn as sns\n",
    "import matplotlib.pyplot as plt\n",
    "\n",
    "# Example dataset (replace with your actual data)\n",
    "data = {\n",
    "    'height': [160, 165, 167, 168, 170, 172, 174, 175, 178, 180, 182, 185, 190]\n",
    "}\n",
    "df = pd.DataFrame(data)\n",
    "\n",
    "# Create the violin plot\n",
    "plt.figure(figsize=(6, 4))\n",
    "sns.violinplot(y=df['height'])\n",
    "plt.title('Violin Plot of Height')\n",
    "plt.ylabel('Height (cm)')\n",
    "plt.grid(True)\n",
    "plt.show()\n",
    "\n"
   ]
  },
  {
   "cell_type": "markdown",
   "metadata": {},
   "source": [
    "Title: Scatter Plot to Analyze Relationship<br>\n",
    "\n",
    "Question 4: Create a scatter plot for the weight and height features to determine if there is a trend."
   ]
  },
  {
   "cell_type": "code",
   "execution_count": null,
   "metadata": {},
   "outputs": [],
   "source": [
    "import pandas as pd\n",
    "import matplotlib.pyplot as plt\n",
    "\n",
    "# Example dataset (replace with your actual data)\n",
    "data = {\n",
    "    'height': [160, 165, 167, 170, 172, 175, 178, 180, 182, 185],\n",
    "    'weight': [50, 55, 58, 60, 63, 67, 70, 72, 75, 78]\n",
    "}\n",
    "df = pd.DataFrame(data)\n",
    "\n",
    "# Create the scatter plot\n",
    "plt.figure(figsize=(6, 4))\n",
    "plt.scatter(df['height'], df['weight'], color='blue', edgecolors='black')\n",
    "plt.title('Scatter Plot of Height vs. Weight')\n",
    "plt.xlabel('Height (cm)')\n",
    "plt.ylabel('Weight (kg)')\n",
    "plt.grid(True)\n",
    "plt.show()\n",
    "\n",
    "\n"
   ]
  },
  {
   "cell_type": "markdown",
   "metadata": {},
   "source": [
    "Title: Correlation Heatmap<br>\n",
    "\n",
    "Question 5 : Generate a correlation heatmap for a dataset with multiple features (e.g., height ,weight , age ) and explain the correlations observed."
   ]
  },
  {
   "cell_type": "code",
   "execution_count": null,
   "metadata": {},
   "outputs": [],
   "source": [
    "import pandas as pd\n",
    "import seaborn as sns\n",
    "import matplotlib.pyplot as plt\n",
    "\n",
    "# Sample dataset (replace with your actual dataset)\n",
    "data = {\n",
    "    'height': [160, 165, 167, 170, 172, 175, 178, 180, 182, 185],\n",
    "    'weight': [50, 55, 58, 60, 63, 67, 70, 72, 75, 78],\n",
    "    'age':    [22, 25, 24, 28, 30, 32, 35, 37, 40, 42]\n",
    "}\n",
    "df = pd.DataFrame(data)\n",
    "\n",
    "# Compute correlation matrix\n",
    "corr_matrix = df.corr(numeric_only=True)\n",
    "\n",
    "# Plot heatmap\n",
    "plt.figure(figsize=(6, 5))\n",
    "sns.heatmap(corr_matrix, annot=True, cmap='coolwarm', vmin=-1, vmax=1)\n",
    "plt.title('Correlation Heatmap')\n",
    "plt.show()\n",
    "\n"
   ]
  },
  {
   "cell_type": "markdown",
   "metadata": {},
   "source": [
    "Title: Descriptive Statistical Analysis<br>\n",
    "\n",
    "Question 6: Calculate the mean, median, standard deviation, skewness, and kurtosis for the\n",
    "temperature feature and discuss the results."
   ]
  },
  {
   "cell_type": "code",
   "execution_count": null,
   "metadata": {},
   "outputs": [],
   "source": [
    "import pandas as pd\n",
    "from scipy.stats import skew, kurtosis\n",
    "\n",
    "# Sample dataset (replace with your own data)\n",
    "data = {\n",
    "    'temperature': [22.5, 23.0, 21.5, 24.0, 25.5, 26.0, 23.5, 22.0, 21.0, 24.5]\n",
    "}\n",
    "df = pd.DataFrame(data)\n",
    "\n",
    "# Descriptive statistics\n",
    "mean_temp = df['temperature'].mean()\n",
    "median_temp = df['temperature'].median()\n",
    "std_temp = df['temperature'].std()\n",
    "skew_temp = skew(df['temperature'])\n",
    "kurt_temp = kurtosis(df['temperature'])\n",
    "\n",
    "# Display the results\n",
    "print(f\"Mean: {mean_temp:.2f}\")\n",
    "print(f\"Median: {median_temp:.2f}\")\n",
    "print(f\"Standard Deviation: {std_temp:.2f}\")\n",
    "print(f\"Skewness: {skew_temp:.2f}\")\n",
    "print(f\"Kurtosis: {kurt_temp:.2f}\")\n",
    "\n"
   ]
  },
  {
   "cell_type": "markdown",
   "metadata": {},
   "source": [
    "Title: Covariance and Correlation between Two Features<br>\n",
    "\n",
    "Question 7: Compute the covariance and correlation between price and demand in a dataset.\n",
    "Explain what these metrics indicate."
   ]
  },
  {
   "cell_type": "code",
   "execution_count": null,
   "metadata": {},
   "outputs": [],
   "source": [
    "import pandas as pd\n",
    "\n",
    "# Sample dataset (replace with your actual data)\n",
    "data = {\n",
    "    'price': [10, 12, 14, 16, 18, 20],\n",
    "    'demand': [200, 180, 160, 140, 120, 100]\n",
    "}\n",
    "df = pd.DataFrame(data)\n",
    "\n",
    "# Covariance\n",
    "covariance = df['price'].cov(df['demand'])\n",
    "\n",
    "# Correlation\n",
    "correlation = df['price'].corr(df['demand'])\n",
    "\n",
    "print(f\"Covariance: {covariance:.2f}\")\n",
    "print(f\"Correlation: {correlation:.2f}\")\n"
   ]
  },
  {
   "cell_type": "markdown",
   "metadata": {},
   "source": [
    "Title: Pair Plot for Multivariate Analysis<br>\n",
    "\n",
    "Question 8: Utilize a pair plot on a dataset to explore the relationships and distributions between\n",
    "height , weight , and age . What insights can you glean from this visualization?"
   ]
  },
  {
   "cell_type": "code",
   "execution_count": null,
   "metadata": {},
   "outputs": [],
   "source": [
    "import pandas as pd\n",
    "import seaborn as sns\n",
    "import matplotlib.pyplot as plt\n",
    "\n",
    "# Sample data (replace with your own dataset)\n",
    "data = {\n",
    "    'height': [160, 165, 167, 170, 172, 175, 178, 180, 182, 185],\n",
    "    'weight': [50, 55, 58, 60, 63, 67, 70, 72, 75, 78],\n",
    "    'age':    [22, 25, 24, 28, 30, 32, 35, 37, 40, 42]\n",
    "}\n",
    "df = pd.DataFrame(data)\n",
    "\n",
    "# Create the pair plot\n",
    "sns.pairplot(df)\n",
    "plt.suptitle(\"Pair Plot of Height, Weight, and Age\", y=1.02)\n",
    "plt.show()\n"
   ]
  },
  {
   "cell_type": "markdown",
   "metadata": {},
   "source": [
    "Title: Principal Component Analysis (PCA)<br>\n",
    "\n",
    "Question 9 : Apply PCA on a dataset with multiple features (e.g., x1 , x2 , x3 , x4 ) and reduce it to two principal components. Visualize the data in the new feature space."
   ]
  },
  {
   "cell_type": "code",
   "execution_count": null,
   "metadata": {},
   "outputs": [],
   "source": [
    "import pandas as pd\n",
    "import numpy as np\n",
    "import matplotlib.pyplot as plt\n",
    "from sklearn.decomposition import PCA\n",
    "from sklearn.preprocessing import StandardScaler\n",
    "\n",
    "# Sample dataset with 4 features (replace with your own data)\n",
    "data = {\n",
    "    'x1': [2.5, 3.5, 1.5, 2.8, 3.3],\n",
    "    'x2': [1.4, 2.2, 1.8, 2.0, 2.5],\n",
    "    'x3': [3.6, 4.0, 3.2, 3.8, 3.5],\n",
    "    'x4': [5.1, 4.9, 5.3, 5.0, 4.8]\n",
    "}\n",
    "\n",
    "df = pd.DataFrame(data)\n",
    "\n",
    "# Standardize the data (important for PCA)\n",
    "scaler = StandardScaler()\n",
    "scaled_data = scaler.fit_transform(df)\n",
    "\n",
    "# Apply PCA\n",
    "pca = PCA(n_components=2)\n",
    "pca_result = pca.fit_transform(scaled_data)\n",
    "\n",
    "# Create a DataFrame with the PCA results\n",
    "pca_df = pd.DataFrame(data=pca_result, columns=['PC1', 'PC2'])\n",
    "\n",
    "# Visualize the results\n",
    "plt.figure(figsize=(6, 4))\n",
    "plt.scatter(pca_df['PC1'], pca_df['PC2'], color='blue')\n",
    "plt.title('PCA: Reduced to Two Principal Components')\n",
    "plt.xlabel('Principal Component 1')\n",
    "plt.ylabel('Principal Component 2')\n",
    "plt.grid(True)\n",
    "plt.show()\n"
   ]
  },
  {
   "cell_type": "markdown",
   "metadata": {},
   "source": [
    "Title: Advanced Pair Plot with Hue Parameter<br>\n",
    "\n",
    "Question 10 : Create a pair plot for height , weight , and age with an added categorical variable gender as the hue to observe different group trends."
   ]
  },
  {
   "cell_type": "code",
   "execution_count": null,
   "metadata": {},
   "outputs": [],
   "source": [
    "import pandas as pd\n",
    "import seaborn as sns\n",
    "import matplotlib.pyplot as plt\n",
    "\n",
    "# Sample dataset (replace with your own data)\n",
    "data = {\n",
    "    'height': [160, 165, 167, 170, 172, 175, 178, 180, 182, 185],\n",
    "    'weight': [50, 55, 58, 60, 63, 67, 70, 72, 75, 78],\n",
    "    'age': [22, 25, 24, 28, 30, 32, 35, 37, 40, 42],\n",
    "    'gender': ['F', 'M', 'M', 'F', 'F', 'M', 'M', 'F', 'M', 'F']  # Categorical variable\n",
    "}\n",
    "\n",
    "df = pd.DataFrame(data)\n",
    "\n",
    "# Create the pair plot with hue set to 'gender'\n",
    "sns.pairplot(df, hue='gender', markers=[\"o\", \"s\"], palette='muted')\n",
    "\n",
    "# Customize the title and display\n",
    "plt.suptitle(\"Pair Plot of Height, Weight, and Age by Gender\", y=1.02)\n",
    "plt.show()\n"
   ]
  }
 ],
 "metadata": {
  "kernelspec": {
   "display_name": "Python 3",
   "language": "python",
   "name": "python3"
  },
  "language_info": {
   "codemirror_mode": {
    "name": "ipython",
    "version": 3
   },
   "file_extension": ".py",
   "mimetype": "text/x-python",
   "name": "python",
   "nbconvert_exporter": "python",
   "pygments_lexer": "ipython3",
   "version": "3.10.12"
  }
 },
 "nbformat": 4,
 "nbformat_minor": 2
}
