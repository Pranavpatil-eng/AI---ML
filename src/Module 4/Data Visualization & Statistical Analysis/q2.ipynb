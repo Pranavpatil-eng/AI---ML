{
 "cells": [
  {
   "cell_type": "markdown",
   "metadata": {},
   "source": [
    "**Univariate Analysis (Single Feature Analysis)**<br>\n",
    "\n",
    "Objective: Understand the distribution and characteristics of a single feature using histograms boxplots, and violin plots.<br>\n",
    "\n",
    "Dataset: Use the Iris dataset or any dataset with multiple numerical features.\n"
   ]
  },
  {
   "cell_type": "markdown",
   "metadata": {},
   "source": [
    "Title: Histogram<br>\n",
    "\n",
    "Task 1: Plot a histogram of the petal length feature."
   ]
  },
  {
   "cell_type": "code",
   "execution_count": null,
   "metadata": {},
   "outputs": [],
   "source": [
    "import seaborn as sns\n",
    "import matplotlib.pyplot as plt\n",
    "import pandas as pd\n",
    "\n",
    "# Load the Iris dataset\n",
    "iris = sns.load_dataset('iris')\n",
    "\n",
    "# List of numerical features\n",
    "features = ['sepal_length', 'sepal_width', 'petal_length', 'petal_width']\n",
    "\n",
    "# Plotting Histograms, Boxplots, and Violin Plots\n",
    "for feature in features:\n",
    "    plt.figure(figsize=(16, 4))\n",
    "    \n",
    "    # Histogram\n",
    "    plt.subplot(1, 3, 1)\n",
    "    sns.histplot(data=iris, x=feature, kde=True, bins=20, color='skyblue')\n",
    "    plt.title(f'Histogram of {feature}')\n",
    "    \n",
    "    # Boxplot\n",
    "    plt.subplot(1, 3, 2)\n",
    "    sns.boxplot(x=iris[feature], color='lightgreen')\n",
    "    plt.title(f'Boxplot of {feature}')\n",
    "    \n",
    "    # Violin Plot\n",
    "    plt.subplot(1, 3, 3)\n",
    "    sns.violinplot(x=iris[feature], color='lightcoral')\n",
    "    plt.title(f'Violin Plot of {feature}')\n",
    "    \n",
    "    plt.tight_layout()\n",
    "    plt.show()\n"
   ]
  },
  {
   "cell_type": "markdown",
   "metadata": {},
   "source": [
    "Title: Boxplots<br>\n",
    "\n",
    "Task 2: Plot a boxplot of the petal length feature."
   ]
  },
  {
   "cell_type": "code",
   "execution_count": null,
   "metadata": {},
   "outputs": [],
   "source": [
    "import seaborn as sns\n",
    "import matplotlib.pyplot as plt\n",
    "\n",
    "# Load the Iris dataset\n",
    "iris = sns.load_dataset('iris')\n",
    "\n",
    "# Plot boxplot for petal_length\n",
    "plt.figure(figsize=(6, 4))\n",
    "sns.boxplot(x=iris['petal_length'], color='lightblue')\n",
    "plt.title('Boxplot of Petal Length')\n",
    "plt.xlabel('Petal Length (cm)')\n",
    "plt.show()\n"
   ]
  },
  {
   "cell_type": "markdown",
   "metadata": {},
   "source": [
    "Title: Violin Plots<br>\n",
    "\n",
    "Task 3: Plot a violin plot of the petal length feature."
   ]
  },
  {
   "cell_type": "code",
   "execution_count": null,
   "metadata": {},
   "outputs": [],
   "source": [
    "import seaborn as sns\n",
    "import matplotlib.pyplot as plt\n",
    "\n",
    "# Load the Iris dataset\n",
    "iris = sns.load_dataset('iris')\n",
    "\n",
    "# Plot violin plot for petal_length\n",
    "plt.figure(figsize=(6, 4))\n",
    "sns.violinplot(x=iris['petal_length'], color='salmon')\n",
    "plt.title('Violin Plot of Petal Length')\n",
    "plt.xlabel('Petal Length (cm)')\n",
    "plt.show()\n"
   ]
  },
  {
   "cell_type": "markdown",
   "metadata": {},
   "source": [
    "**Bivariate Analysis (Relationships Between Features)**<br>\n",
    "\n",
    "Objective: Explore relationships between two features using scatter plots and correlation heatmaps."
   ]
  },
  {
   "cell_type": "markdown",
   "metadata": {},
   "source": [
    "Title: Scatter Plots<br>\n",
    "\n",
    "Task 1: Create a scatter plot between sepal length and sepal width.<br>\n",
    "Task 2: Scatter plot between petal length and petal width.<br>\n",
    "Task 3: Scatter plot between sepal length and petal length.<br>"
   ]
  },
  {
   "cell_type": "code",
   "execution_count": null,
   "metadata": {},
   "outputs": [],
   "source": [
    "import seaborn as sns\n",
    "import matplotlib.pyplot as plt\n",
    "\n",
    "# Load dataset\n",
    "iris = sns.load_dataset('iris')\n",
    "\n",
    "# Task 1: Sepal Length vs Sepal Width\n",
    "plt.figure(figsize=(6, 4))\n",
    "sns.scatterplot(data=iris, x='sepal_length', y='sepal_width', hue='species', palette='Set2')\n",
    "plt.title('Scatter Plot: Sepal Length vs Sepal Width')\n",
    "plt.xlabel('Sepal Length (cm)')\n",
    "plt.ylabel('Sepal Width (cm)')\n",
    "plt.legend(title='Species')\n",
    "plt.show()\n"
   ]
  },
  {
   "cell_type": "markdown",
   "metadata": {},
   "source": [
    "Title: Correlation Heatmaps<br>\n",
    "\n",
    "Task 1: Generate a correlation heatmap of the dataset.<br>\n",
    "Task 2: Highlight correlation between sepal length and petal length.<br>\n",
    "Task 3: Highlight correlation between petal width and petal length.<br>"
   ]
  },
  {
   "cell_type": "code",
   "execution_count": null,
   "metadata": {},
   "outputs": [],
   "source": [
    "import seaborn as sns\n",
    "import matplotlib.pyplot as plt\n",
    "import pandas as pd\n",
    "\n",
    "# Load the dataset\n",
    "iris = sns.load_dataset('iris')\n",
    "\n",
    "# Compute correlation matrix (numerical features only)\n",
    "corr_matrix = iris.drop(columns='species').corr()\n",
    "\n",
    "# Plot heatmap\n",
    "plt.figure(figsize=(8, 6))\n",
    "sns.heatmap(corr_matrix, annot=True, cmap='coolwarm', fmt=\".2f\", linewidths=0.5)\n",
    "plt.title('Correlation Heatmap - Iris Dataset')\n",
    "plt.show()\n"
   ]
  },
  {
   "cell_type": "markdown",
   "metadata": {},
   "source": [
    "**Multivariate Analysis (Higher-Dimensional Data Relationships)**<br>\n",
    "Objective: Analyze relationships in higher-dimensional data using pair plots and PCA."
   ]
  },
  {
   "cell_type": "markdown",
   "metadata": {},
   "source": [
    "Title: Pair Plots<br>\n",
    "\n",
    "Task 1: Create a pair plot for the Iris dataset.<br>\n",
    "Task 2: Focus on a subset of features (e.g., only petal dimensions).<br>\n",
    "Task 3: Exclude one class to observe differences."
   ]
  },
  {
   "cell_type": "code",
   "execution_count": null,
   "metadata": {},
   "outputs": [],
   "source": [
    "import seaborn as sns\n",
    "import matplotlib.pyplot as plt\n",
    "\n",
    "# Load the Iris dataset\n",
    "iris = sns.load_dataset('iris')\n",
    "\n",
    "# Task 1: Full pair plot\n",
    "sns.pairplot(iris, hue='species', palette='Set2', corner=True)\n",
    "plt.suptitle('Pair Plot - Full Iris Dataset', y=1.02)\n",
    "plt.show()\n",
    "\n",
    "# Task 2: Pair plot with only petal dimensions\n",
    "sns.pairplot(iris[['petal_length', 'petal_width', 'species']], hue='species', palette='Set1')\n",
    "plt.suptitle('Pair Plot - Petal Dimensions Only', y=1.02)\n",
    "plt.show()\n",
    "\n",
    "# Task 3: Exclude Setosa and plot pairplot\n",
    "iris_subset = iris[iris['species'] != 'setosa']\n",
    "sns.pairplot(iris_subset, hue='species', palette='Dark2')\n",
    "plt.suptitle('Pair Plot - Excluding Setosa', y=1.02)\n",
    "plt.show()\n"
   ]
  },
  {
   "cell_type": "markdown",
   "metadata": {},
   "source": [
    "Title: Principal Component Analysis (PCA)<br>\n",
    "\n",
    "Task 1: Perform PCA and plot the first two principal components.<br>\n",
    "Task 2: Visualize explained variance by each component.<br>\n",
    "Task 3: Retain more components and visualize in 3D."
   ]
  },
  {
   "cell_type": "code",
   "execution_count": null,
   "metadata": {},
   "outputs": [],
   "source": [
    "import seaborn as sns\n",
    "import matplotlib.pyplot as plt\n",
    "import pandas as pd\n",
    "from sklearn.decomposition import PCA\n",
    "from sklearn.preprocessing import StandardScaler\n",
    "from mpl_toolkits.mplot3d import Axes3D\n",
    "\n",
    "# Load the Iris dataset\n",
    "iris = sns.load_dataset('iris')\n",
    "\n",
    "# Separate features and target\n",
    "X = iris.drop(columns='species')\n",
    "y = iris['species']\n",
    "\n",
    "# Standardize the features\n",
    "scaler = StandardScaler()\n",
    "X_scaled = scaler.fit_transform(X)\n",
    "\n",
    "# Task 1: Perform PCA and plot first two principal components\n",
    "pca_2d = PCA(n_components=2)\n",
    "X_pca_2d = pca_2d.fit_transform(X_scaled)\n",
    "\n",
    "# Create a DataFrame for the PCA components\n",
    "pca_df_2d = pd.DataFrame(data=X_pca_2d, columns=['PC1', 'PC2'])\n",
    "pca_df_2d['species'] = y\n",
    "\n",
    "# Plot 2D PCA\n",
    "plt.figure(figsize=(8, 6))\n",
    "sns.scatterplot(data=pca_df_2d, x='PC1', y='PC2', hue='species', palette='Set2')\n",
    "plt.title('PCA - First Two Principal Components')\n",
    "plt.xlabel('Principal Component 1')\n",
    "plt.ylabel('Principal Component 2')\n",
    "plt.legend()\n",
    "plt.grid(True)\n",
    "plt.show()\n",
    "\n",
    "# Task 2: Visualize explained variance\n",
    "pca_full = PCA().fit(X_scaled)\n",
    "explained_variance = pca_full.explained_variance_ratio_\n",
    "\n",
    "plt.figure(figsize=(8, 4))\n",
    "plt.bar(range(1, len(explained_variance)+1), explained_variance, color='skyblue')\n",
    "plt.plot(range(1, len(explained_variance)+1), explained_variance.cumsum(), marker='o', color='darkblue', label='Cumulative Variance')\n",
    "plt.xticks(range(1, len(explained_variance)+1))\n",
    "plt.title('Explained Variance by Each Principal Component')\n",
    "plt.xlabel('Principal Component')\n",
    "plt.ylabel('Explained Variance Ratio')\n",
    "plt.legend()\n",
    "plt.grid(True)\n",
    "plt.show()\n",
    "\n",
    "# Task 3: Retain more components and visualize in 3D\n",
    "pca_3d = PCA(n_components=3)\n",
    "X_pca_3d = pca_3d.fit_transform(X_scaled)\n",
    "\n",
    "# Create DataFrame for 3D plot\n",
    "pca_df_3d = pd.DataFrame(data=X_pca_3d, columns=['PC1', 'PC2', 'PC3'])\n",
    "pca_df_3d['species'] = y\n",
    "\n",
    "# 3D Plot\n",
    "fig = plt.figure(figsize=(10, 7))\n",
    "ax = fig.add_subplot(111, projection='3d')\n",
    "colors = {'setosa': 'red', 'versicolor': 'green', 'virginica': 'blue'}\n",
    "\n",
    "for species in pca_df_3d['species'].unique():\n",
    "    subset = pca_df_3d[pca_df_3d['species'] == species]\n",
    "    ax.scatter(subset['PC1'], subset['PC2'], subset['PC3'], label=species, color=colors[species])\n",
    "\n",
    "ax.set_title('PCA - First Three Principal Components (3D)')\n",
    "ax.set_xlabel('PC1')\n",
    "ax.set_ylabel('PC2')\n",
    "ax.set_zlabel('PC3')\n",
    "ax.legend()\n",
    "plt.show()\n",
    "\n"
   ]
  },
  {
   "cell_type": "markdown",
   "metadata": {},
   "source": [
    "**Statistical Analysis in EDA**<br>\n",
    "\n",
    "Objective: Calculate basic statistical metrics and explore the relationship between features using correlation and covariance.<br>"
   ]
  },
  {
   "cell_type": "markdown",
   "metadata": {},
   "source": [
    "Title: Descriptive Statistics<br>\n",
    "\n",
    "Task 1: Calculate mean, median, and standard deviation of petal length.<br>\n",
    "Task 2: Calculate skewness and kurtosis of sepal width.<br>\n",
    "Task 3: Calculate mean, median, and standard deviation of sepal length."
   ]
  },
  {
   "cell_type": "code",
   "execution_count": null,
   "metadata": {},
   "outputs": [],
   "source": [
    "import seaborn as sns\n",
    "import pandas as pd\n",
    "from scipy.stats import skew, kurtosis\n",
    "\n",
    "# Load the Iris dataset\n",
    "iris = sns.load_dataset('iris')\n",
    "\n",
    "# Task 1: Mean, Median, Std of Petal Length\n",
    "petal_length_mean = iris['petal_length'].mean()\n",
    "petal_length_median = iris['petal_length'].median()\n",
    "petal_length_std = iris['petal_length'].std()\n",
    "\n",
    "print(\"Task 1: Petal Length\")\n",
    "print(f\"Mean: {petal_length_mean:.2f}\")\n",
    "print(f\"Median: {petal_length_median:.2f}\")\n",
    "print(f\"Standard Deviation: {petal_length_std:.2f}\")\n",
    "print()\n",
    "\n",
    "# Task 2: Skewness and Kurtosis of Sepal Width\n",
    "sepal_width_skew = skew(iris['sepal_width'])\n",
    "sepal_width_kurt = kurtosis(iris['sepal_width'])\n",
    "\n",
    "print(\"Task 2: Sepal Width\")\n",
    "print(f\"Skewness: {sepal_width_skew:.2f}\")\n",
    "print(f\"Kurtosis: {sepal_width_kurt:.2f}\")\n",
    "print()\n",
    "\n",
    "# Task 3: Mean, Median, Std of Sepal Length\n",
    "sepal_length_mean = iris['sepal_length'].mean()\n",
    "sepal_length_median = iris['sepal_length'].median()\n",
    "sepal_length_std = iris['sepal_length'].std()\n",
    "\n",
    "print(\"Task 3: Sepal Length\")\n",
    "print(f\"Mean: {sepal_length_mean:.2f}\")\n",
    "print(f\"Median: {sepal_length_median:.2f}\")\n",
    "print(f\"Standard Deviation: {sepal_length_std:.2f}\")\n"
   ]
  },
  {
   "cell_type": "markdown",
   "metadata": {},
   "source": [
    "Title: Correlation & Covariance<br>\n",
    "\n",
    "Task 1: Compute correlation between sepal length and petal length.<br>\n",
    "Task 2: Compute covariance between petal width and sepal width.<br>\n",
    "Task 3: Determine the most correlated pair of features.<br>"
   ]
  },
  {
   "cell_type": "code",
   "execution_count": null,
   "metadata": {},
   "outputs": [],
   "source": [
    "import seaborn as sns\n",
    "import pandas as pd\n",
    "\n",
    "# Load the Iris dataset\n",
    "iris = sns.load_dataset('iris')\n",
    "\n",
    "# Task 1: Correlation between Sepal Length and Petal Length\n",
    "corr_sl_pl = iris['sepal_length'].corr(iris['petal_length'])\n",
    "print(\"Task 1: Correlation between Sepal Length and Petal Length\")\n",
    "print(f\"Correlation: {corr_sl_pl:.2f}\")\n",
    "print()\n",
    "\n",
    "# Task 2: Covariance between Petal Width and Sepal Width\n",
    "cov_pw_sw = iris['petal_width'].cov(iris['sepal_width'])\n",
    "print(\"Task 2: Covariance between Petal Width and Sepal Width\")\n",
    "print(f\"Covariance: {cov_pw_sw:.2f}\")\n",
    "print()\n",
    "\n",
    "# Task 3: Most Correlated Pair of Features\n",
    "# Drop non-numeric column\n",
    "numeric_iris = iris.drop(columns='species')\n",
    "corr_matrix = numeric_iris.corr().abs()\n",
    "\n",
    "# Set diagonal to 0 to ignore self-correlation\n",
    "import numpy as np\n",
    "np.fill_diagonal(corr_matrix.values, 0)\n",
    "\n",
    "# Find the most correlated pair\n",
    "max_corr = corr_matrix.unstack().idxmax()\n",
    "max_corr_value = corr_matrix.loc[max_corr]\n",
    "\n",
    "print(\"Task 3: Most Correlated Pair of Features\")\n",
    "print(f\"Most correlated pair: {max_corr[0]} & {max_corr[1]}\")\n",
    "print(f\"Correlation value: {max_corr_value:.2f}\")\n"
   ]
  }
 ],
 "metadata": {
  "kernelspec": {
   "display_name": "Python 3",
   "language": "python",
   "name": "python3"
  },
  "language_info": {
   "codemirror_mode": {
    "name": "ipython",
    "version": 3
   },
   "file_extension": ".py",
   "mimetype": "text/x-python",
   "name": "python",
   "nbconvert_exporter": "python",
   "pygments_lexer": "ipython3",
   "version": "3.10.12"
  }
 },
 "nbformat": 4,
 "nbformat_minor": 2
}
